{
 "cells": [
  {
   "attachments": {},
   "cell_type": "markdown",
   "metadata": {},
   "source": [
    "##### 2.1. Реализовать методы простой итерации и Ньютона решения нелинейных уравнений в виде программ, задавая в качестве входных данных точность вычислений. С использованием разработанного программного обеспечения найти положительный корень нелинейного уравнения (начальное приближение определить графически). Проанализировать зависимость погрешности вычислений от количества итераций. "
   ]
  },
  {
   "attachments": {},
   "cell_type": "markdown",
   "metadata": {},
   "source": [
    "Варинат 23"
   ]
  },
  {
   "cell_type": "markdown",
   "metadata": {},
   "source": [
    "$$ \\ln(x+2) - x^4 + 0.5 = 0$$"
   ]
  },
  {
   "cell_type": "code",
   "execution_count": 354,
   "metadata": {},
   "outputs": [],
   "source": [
    "import math\n",
    "import typing\n",
    "import matplotlib.pyplot  as plt\n"
   ]
  },
  {
   "attachments": {},
   "cell_type": "markdown",
   "metadata": {},
   "source": [
    "Точность"
   ]
  },
  {
   "cell_type": "code",
   "execution_count": 355,
   "metadata": {},
   "outputs": [],
   "source": [
    "eps = 0.01"
   ]
  },
  {
   "cell_type": "markdown",
   "metadata": {},
   "source": [
    "## Графический методод вычисления отрезка"
   ]
  },
  {
   "attachments": {},
   "cell_type": "markdown",
   "metadata": {},
   "source": [
    "Определим отрезок, заметим что, ln(x+2) определён при x > -2?\\, а нам нужен ответ при x  >= 0"
   ]
  },
  {
   "cell_type": "code",
   "execution_count": 356,
   "metadata": {},
   "outputs": [],
   "source": [
    "def frange(start:float, stop:float, step:float) -> float:\n",
    "    while start < stop:\n",
    "        yield start\n",
    "        start += step"
   ]
  },
  {
   "cell_type": "code",
   "execution_count": 357,
   "metadata": {},
   "outputs": [],
   "source": [
    "x = [i for i in frange(0.01, 2, 0.01)]"
   ]
  },
  {
   "cell_type": "code",
   "execution_count": 358,
   "metadata": {},
   "outputs": [
    {
     "data": {
      "image/png": "[encoded data removed]",
      "text/plain": [
       "<Figure size 640x480 with 1 Axes>"
      ]
     },
     "metadata": {},
     "output_type": "display_data"
    }
   ],
   "source": [
    "plt.plot(x, [(math.log(i + 2) - i**4 + 0.5) for i in x])\n",
    "plt.plot(x, [0 for i in x])\n",
    "plt.show()"
   ]
  },
  {
   "attachments": {},
   "cell_type": "markdown",
   "metadata": {},
   "source": [
    "$ X$ лежит на интервале $(0.5, 1.25) $"
   ]
  },
  {
   "cell_type": "code",
   "execution_count": 359,
   "metadata": {},
   "outputs": [],
   "source": [
    "a, b = 0.5, 1.25"
   ]
  },
  {
   "attachments": {},
   "cell_type": "markdown",
   "metadata": {},
   "source": [
    "## Метод Ньютона"
   ]
  },
  {
   "attachments": {},
   "cell_type": "markdown",
   "metadata": {},
   "source": [
    "Выпишим функцию и её производные "
   ]
  },
  {
   "cell_type": "code",
   "execution_count": 360,
   "metadata": {},
   "outputs": [],
   "source": [
    "def f(x:float) -> float:\n",
    "    return math.log(x + 2) - x**4 + 0.5 \n",
    "def f1(x:float) -> float:\n",
    "    return 1/(x + 2) - 4* x**3\n",
    "def f11(x:float) -> float:\n",
    "    return -1/(x + 2)**2 - 12 * x**2"
   ]
  },
  {
   "attachments": {},
   "cell_type": "markdown",
   "metadata": {},
   "source": [
    "Проверим условия:\n",
    "\n",
    "1) $f(a) * f(b) < 0$\n",
    "\n",
    "2) $f(x_0) f''(x_0) > 0$"
   ]
  },
  {
   "cell_type": "code",
   "execution_count": 361,
   "metadata": {},
   "outputs": [],
   "source": [
    "def check_conditions_newton(f:typing.Callable[[float], float], f11:typing.Callable[[float], float], a:float, b:float, x_num:float) -> bool:\n",
    "    return f(a) * f(b) < 0 and f(x_num) * f11(x_num) > 0"
   ]
  },
  {
   "cell_type": "markdown",
   "metadata": {},
   "source": [
    "### Аналитическое вычисление интервала\n"
   ]
  },
  {
   "cell_type": "markdown",
   "metadata": {},
   "source": [
    " Возьмём левую границу за 0, ввиду того, что мы определяем только положительный корень, правую за 10, потому что при 10 функция точно меньше нуля, и будем постеменно искать $x_0$"
   ]
  },
  {
   "cell_type": "code",
   "execution_count": 362,
   "metadata": {},
   "outputs": [],
   "source": [
    "left = 0\n",
    "right = 10"
   ]
  },
  {
   "cell_type": "code",
   "execution_count": 363,
   "metadata": {},
   "outputs": [],
   "source": [
    "def check_diff(a:float, b:float) -> bool:\n",
    "    return f(a) * f(b) < 0\n",
    "\n",
    "def check_second_diff(x0:float) -> bool:\n",
    "    return f11(x0) * f(x0) > 0\n",
    "\n",
    "def search(left:float, right:float) -> (float, float, float):\n",
    "    x0 = right - eps\n",
    "    while(right - left > eps and left < x0):\n",
    "        x0 = (left + right) / 2\n",
    "        if check_second_diff(x0):\n",
    "            return x0, left, right\n",
    "        if check_diff(left, x0):\n",
    "            right = x0\n",
    "        elif check_diff(x0, right):\n",
    "            left = x0\n",
    "\n",
    "    if check_second_diff(left):\n",
    "        return left, left, right\n",
    "    if check_second_diff(right):\n",
    "        return right, left, right\n",
    "    \n",
    "def Newton(x0:float, eps:float, f:typing.Callable[[float], float]) -> (float, float):\n",
    "    error = 10 * eps\n",
    "    itera = 0\n",
    "    while (error > eps):\n",
    "        X_new = x0 - (f(x0)/f1(x0))\n",
    "        error = abs(X_new - x0)\n",
    "        x0 = X_new\n",
    "        itera += 1\n",
    "    return X_new, itera"
   ]
  },
  {
   "cell_type": "code",
   "execution_count": 364,
   "metadata": {},
   "outputs": [],
   "source": [
    "x0, left, right = search(left, right)"
   ]
  },
  {
   "cell_type": "markdown",
   "metadata": {},
   "source": [
    "Вычислим x"
   ]
  },
  {
   "cell_type": "code",
   "execution_count": 365,
   "metadata": {},
   "outputs": [],
   "source": [
    "X_new, itera = Newton(x0, eps, f)"
   ]
  },
  {
   "cell_type": "code",
   "execution_count": 366,
   "metadata": {},
   "outputs": [
    {
     "name": "stdout",
     "output_type": "stream",
     "text": [
      "1.131939665825366 8\n"
     ]
    }
   ],
   "source": [
    "print(X_new, itera)"
   ]
  },
  {
   "cell_type": "markdown",
   "metadata": {},
   "source": [
    "Проверим значения функци"
   ]
  },
  {
   "cell_type": "code",
   "execution_count": 367,
   "metadata": {},
   "outputs": [
    {
     "data": {
      "text/plain": [
       "-4.490535519119376e-05"
      ]
     },
     "execution_count": 367,
     "metadata": {},
     "output_type": "execute_result"
    }
   ],
   "source": [
    "f(X_new)"
   ]
  },
  {
   "cell_type": "markdown",
   "metadata": {},
   "source": [
    "Посмотрим значения функции "
   ]
  },
  {
   "cell_type": "code",
   "execution_count": 368,
   "metadata": {},
   "outputs": [
    {
     "data": {
      "image/png": "[encoded data removed]",
      "text/plain": [
       "<Figure size 640x480 with 1 Axes>"
      ]
     },
     "metadata": {},
     "output_type": "display_data"
    }
   ],
   "source": [
    "plt.plot(x, [(math.log(i + 2) - i**4 + 0.5) for i in x])\n",
    "plt.plot(x, [0 for i in x])\n",
    "plt.scatter(X_new, f(X_new))\n",
    "plt.show()"
   ]
  },
  {
   "attachments": {},
   "cell_type": "markdown",
   "metadata": {},
   "source": [
    "Число небольшое, с учетом точности, близкое к нулю"
   ]
  },
  {
   "attachments": {},
   "cell_type": "markdown",
   "metadata": {},
   "source": [
    "## Метод простой итераций"
   ]
  },
  {
   "cell_type": "code",
   "execution_count": 369,
   "metadata": {},
   "outputs": [],
   "source": [
    "new_left, new_right = 0, 10"
   ]
  },
  {
   "cell_type": "code",
   "execution_count": 370,
   "metadata": {},
   "outputs": [],
   "source": [
    "def phi(x:float) -> float:\n",
    "    return ((math.log(x + 2) + 0.5) ** (1/4)) \n",
    "\n",
    "def phi1(x: float) -> float:\n",
    "    return 1 / (4 * x + 8) * (math.log(x + 2) + 0.5) ** (3/4)"
   ]
  },
  {
   "attachments": {},
   "cell_type": "markdown",
   "metadata": {},
   "source": [
    "проверим условия : \n",
    "1) ϕ(x) ∈ [a,b] ∀ x ∈ [a,b]\n",
    "2) ∃ q : |ϕ′(x)| <= q ∀ x ∈ [a,b]"
   ]
  },
  {
   "cell_type": "code",
   "execution_count": 371,
   "metadata": {},
   "outputs": [],
   "source": [
    "def check_conditions_itera(a:float, b:float, phi:typing.Callable[[float], float], phi1:typing.Callable[[float], float]) -> bool:\n",
    "    x = [i for i in frange(a, b, 0.01)]\n",
    "    return (max([phi(i) for i in x]) <= b and min([phi(i) for i in x]) <= a and  max([abs(phi1(i)) for i in x ]) < 1)\n",
    "\n",
    "def left_cond(phi:typing.Callable[[float], float], x:list, left:float)->bool:\n",
    "    return (min([phi(i) for i in x]) <= left)  # превое условие теоремы\n",
    "\n",
    "def right_cond(phi:typing.Callable[[float], float], x:list, right:float) -> bool:\n",
    "    return (max([phi(i) for i in x]) <= right) # первое условие теоремы\n",
    "\n",
    "def search(left:float, right:float, phi:typing.Callable[[float], float], phi1:typing.Callable[[float], float], eps:float)-> (float, float): \n",
    "    x = [i for i in frange(left, right, eps)]\n",
    "    cnt = 0\n",
    "    while (right - left > eps):\n",
    "        cnt += 1\n",
    "        x = [i for i in frange(left, right, eps)]\n",
    "        m = (left + right) / 2\n",
    "        if not right_cond(phi, x, right):\n",
    "            right = m\n",
    "        elif not left_cond(phi, x, left):\n",
    "            left = m\n",
    "        if check_conditions_itera(left, right, phi, phi1):\n",
    "            break\n",
    "        if cnt % 100 == 0:\n",
    "            print(left, right)\n",
    "    return phi(left), phi(right)\n",
    "\n",
    "def get_q(x:float, phi1:typing.Callable[[float], float]) -> float:\n",
    "    return max([abs(phi1(i)) for i in x ])"
   ]
  },
  {
   "cell_type": "code",
   "execution_count": 372,
   "metadata": {},
   "outputs": [],
   "source": [
    "new_left, new_right = search(new_left, new_right, phi, phi1, eps)"
   ]
  },
  {
   "cell_type": "code",
   "execution_count": 373,
   "metadata": {},
   "outputs": [
    {
     "name": "stdout",
     "output_type": "stream",
     "text": [
      "1.250576100686295 1.3144155501961554\n"
     ]
    }
   ],
   "source": [
    "print(new_left, new_right)"
   ]
  },
  {
   "cell_type": "code",
   "execution_count": 374,
   "metadata": {},
   "outputs": [],
   "source": [
    "def Simple_iteration(X:float, eps:float, q:float, phi:typing.Callable[[float], float]) -> (float, float):\n",
    "    itera = 0\n",
    "    error = 10 * eps\n",
    "    itera = 0\n",
    "    while (error > eps):\n",
    "        X_new = phi(X)\n",
    "        error = q * abs(X_new - X) / (1 - q)\n",
    "        itera += 1\n",
    "        X = X_new\n",
    "    return X, itera"
   ]
  },
  {
   "cell_type": "code",
   "execution_count": 375,
   "metadata": {},
   "outputs": [],
   "source": [
    "X_ans, itera = Simple_iteration((new_left+new_right)/2, eps, get_q([x for x in frange(new_left, new_right, eps)], phi1), phi)"
   ]
  },
  {
   "cell_type": "code",
   "execution_count": 376,
   "metadata": {},
   "outputs": [
    {
     "name": "stdout",
     "output_type": "stream",
     "text": [
      "1.132371428061342 2\n"
     ]
    }
   ],
   "source": [
    "print(X_ans, itera)"
   ]
  },
  {
   "cell_type": "code",
   "execution_count": 377,
   "metadata": {},
   "outputs": [
    {
     "data": {
      "text/plain": [
       "-0.002413298813827902"
      ]
     },
     "execution_count": 377,
     "metadata": {},
     "output_type": "execute_result"
    }
   ],
   "source": [
    "f(X_ans)"
   ]
  },
  {
   "attachments": {},
   "cell_type": "markdown",
   "metadata": {},
   "source": [
    "Близки к нулю в пределах точности"
   ]
  },
  {
   "attachments": {},
   "cell_type": "markdown",
   "metadata": {},
   "source": [
    "##### 2.2. Реализовать методы простой итерации и Ньютона решения систем нелинейных уравнений в виде программного кода, задавая в качестве входных данных точность вычислений. С использованием разработанного программного обеспечения решить систему нелинейных уравнений (при наличии нескольких решений найти то из них, в котором значения неизвестных являются положительными); начальное приближение определить графически. Проанализировать зависимость погрешности вычислений от количества итераций. "
   ]
  },
  {
   "attachments": {},
   "cell_type": "markdown",
   "metadata": {},
   "source": [
    "вариант 23"
   ]
  },
  {
   "cell_type": "markdown",
   "metadata": {},
   "source": [
    "$$\\begin {cases} 2x^2_1 - x_1 + x^2_2 - 1 = 0 \\\\\n",
    "x_2 -\\tg{(x_1)} = 0\n",
    "\\end{cases}$$"
   ]
  },
  {
   "cell_type": "markdown",
   "metadata": {},
   "source": [
    "Сначала посмотрим на функцию"
   ]
  },
  {
   "cell_type": "code",
   "execution_count": 378,
   "metadata": {},
   "outputs": [],
   "source": [
    "x_inter = [i for i in frange(-0.5, 1, 0.1)]"
   ]
  },
  {
   "cell_type": "code",
   "execution_count": 379,
   "metadata": {},
   "outputs": [],
   "source": [
    "def f_1_low_to_y(x:float) -> float:\n",
    "    return (-1 * math.sqrt(-2 * x**2 + x + 1))\n",
    "def f_1_up_to_y(x:float) -> float:\n",
    "    return math.sqrt(-2 * x**2 + x + 1)\n",
    "def f_2_form_y(x:float) -> float:\n",
    "    return math.tan(x)"
   ]
  },
  {
   "cell_type": "code",
   "execution_count": 380,
   "metadata": {},
   "outputs": [
    {
     "data": {
      "image/png": "[encoded data removed]",
      "text/plain": [
       "<Figure size 640x480 with 1 Axes>"
      ]
     },
     "metadata": {},
     "output_type": "display_data"
    }
   ],
   "source": [
    "plt.plot(x_inter, [f_2_form_y(i) for i in x_inter])\n",
    "plt.plot(x_inter, [f_1_low_to_y(i) for i in x_inter], color='red')\n",
    "plt.plot(x_inter, [ f_1_up_to_y(i) for i in x_inter], color='red')\n",
    "plt.show()"
   ]
  },
  {
   "cell_type": "markdown",
   "metadata": {},
   "source": [
    "В виду того, что одна из функций это эллипс, а другая тангенс, следует взять вехнюю часть эллипса, и рассматривать x от центра эллипса до его границы, а у от 0 до максимального значения верхней части эллипса"
   ]
  },
  {
   "cell_type": "markdown",
   "metadata": {},
   "source": [
    "$2x^2_1 - x_1 + x^2_2 - 1 = 0$\n",
    "\n",
    "дополним до полных квадратов и найдём все необходимые величины\n",
    "\n",
    "$\\frac{(x_1 - \\frac{1}{4})^2}{\\frac{9}{16}} + \\frac{x_2^2}{\\frac{9}{8}} = 1$\n",
    "\n",
    "Теперь очевидно, что центр эллипса в точке $(\\frac{1}{4}, 0)$, а его правая граница при $ (x_1 > 0) $: $x_1^{max} = \\frac{1}{4} + \\sqrt{\\frac{9}{16}} = 1$, левая  при $x_1^{min} = \\frac{1}{4}$, аналогично нижняя граница $x_2^{min} = 0$, а верхняя при  $ x_2^{max} = \\frac{3}{2\\sqrt{2}}$\n",
    "\n",
    "за начальные значения возьмём $x_1^0 = \\frac{x_1^{max} + x_1^{min}}{2} = \\frac{5}{8}$, аналогично для $x_2^0 = \\frac{x_2^{max} + x_2^{min}}{2} =  \\frac{3}{4\\sqrt{2}}$"
   ]
  },
  {
   "attachments": {},
   "cell_type": "markdown",
   "metadata": {},
   "source": [
    "### метод ньютона"
   ]
  },
  {
   "cell_type": "code",
   "execution_count": 381,
   "metadata": {},
   "outputs": [],
   "source": [
    "x_left = 1/4\n",
    "x_right = 1\n",
    "y_left = 0\n",
    "y_right = 3/2/math.sqrt(2)\n",
    "x_inter = [i for i in frange(x_left, x_right, 10*eps)]\n",
    "y_inter = [i for i in frange(y_left, y_right, (y_right - y_left) / len(x_inter))]\n",
    "x_0 = (x_left + x_right) / 2\n",
    "y_0 = (y_left + y_right) / 2\n"
   ]
  },
  {
   "cell_type": "code",
   "execution_count": 382,
   "metadata": {},
   "outputs": [],
   "source": [
    "import numpy as np\n",
    "def decomposition(A:np.array) -> (np.array, np.array):\n",
    "\n",
    "  n = len(A)\n",
    "  L = np.array([[float(i == j) for j in range(n)] for i in range(n)])\n",
    "  U = A.copy()\n",
    "\n",
    "\n",
    "  for i in range(n-1):\n",
    "    for j in range(i+1, n):\n",
    "      f = - U[j,i]/U[i,i]  \n",
    "      L[j,i]=-f                      \n",
    "      U[j,i:n] = U[j,i:n] + f * U[i,i:n]\n",
    "  return L, U\n",
    "\n",
    "def det(A:np.array) -> float:\n",
    "    d = 1\n",
    "    _, U = decomposition(np.array(A))\n",
    "    for i in range(len(U)):\n",
    "        d *= U[i,i] \n",
    "    return d\n"
   ]
  },
  {
   "cell_type": "code",
   "execution_count": 383,
   "metadata": {},
   "outputs": [],
   "source": [
    "def fsys(x:float, y:float) -> list:\n",
    "    return [2 * x**2 - x + y**2 - 1, y - math.tan(x)]\n",
    "\n",
    "def jac(x:float, y:float) -> list:\n",
    "    return [\n",
    "        [4*x - 1, 2*y],\n",
    "        [-math.cos(x) ** 2, 1]\n",
    "        ]\n",
    "def Newton_sys(x:float, y:float, fsys:typing.Callable[[float, float], list], jac:typing.Callable[[float, float], list], eps:float):\n",
    "    itera = 0\n",
    "    error = 10 * eps\n",
    "    while (error > eps):\n",
    "        x_new = x - det(np.array(\n",
    "            [[fsys(x, y)[0], jac(x, y)[0][1]], [fsys(x, y)[1], jac(x, y)[1][1]]])) / det(np.array(jac(x, y)))\n",
    "        y_new = y - det(np.array([\n",
    "            [jac(x, y)[0][0], fsys(x, y)[0]], [jac(x, y)[1][0], fsys(x, y)[1]]])) / det(np.array(jac(x, y)))\n",
    "        error = max(abs(x_new - x), abs(y_new - y))\n",
    "        x, y = x_new, y_new\n",
    "        itera += 1\n",
    "    return x_new, y_new, itera"
   ]
  },
  {
   "cell_type": "code",
   "execution_count": 384,
   "metadata": {},
   "outputs": [],
   "source": [
    "x, y = x_0, y_0\n",
    "x_ans, y_ans, itera = Newton_sys(x, y, fsys, jac, eps)\n"
   ]
  },
  {
   "cell_type": "code",
   "execution_count": 385,
   "metadata": {},
   "outputs": [
    {
     "name": "stdout",
     "output_type": "stream",
     "text": [
      "0.6988918686096419 0.8498264208817832 10\n"
     ]
    }
   ],
   "source": [
    "print(x_ans, y_ans, itera)"
   ]
  },
  {
   "cell_type": "code",
   "execution_count": 386,
   "metadata": {},
   "outputs": [
    {
     "data": {
      "text/plain": [
       "[0.00021276503645362155, 0.009430569660921373]"
      ]
     },
     "execution_count": 386,
     "metadata": {},
     "output_type": "execute_result"
    }
   ],
   "source": [
    "fsys(x_ans, y_ans)"
   ]
  },
  {
   "attachments": {},
   "cell_type": "markdown",
   "metadata": {},
   "source": [
    "Близки к нулю с учетом погрешности"
   ]
  },
  {
   "attachments": {},
   "cell_type": "markdown",
   "metadata": {},
   "source": [
    "### Метод простых итераций"
   ]
  },
  {
   "attachments": {},
   "cell_type": "markdown",
   "metadata": {},
   "source": [
    "$$ 2x^2 - x + y^2 -1 = 0 $$\n",
    "\n",
    "$$ y = phi(x, y) = \\sqrt{-2x^2 + x + 1} $$\n",
    "\n",
    "$$ y = phi(x, y) = -\\sqrt{-2x^2 +x + 1} $$\n",
    "\n",
    "$$ x = phi(x, y) =  \\frac{1 + \\sqrt{1 + 8y^2}}{4} $$\n",
    "\n",
    "$$ x = phi(x, y) =  \\frac{1 - \\sqrt{1 + 8y^2}}{4} $$"
   ]
  },
  {
   "attachments": {},
   "cell_type": "markdown",
   "metadata": {},
   "source": [
    "$$ y - \\tg{x} = 0 $$\n",
    "\n",
    "$$ y = phi(x, y) = \\tg{(x)} $$\n",
    "\n",
    "$$ x = phi(x, y) = \\arctg{(y)} $$"
   ]
  },
  {
   "cell_type": "code",
   "execution_count": 387,
   "metadata": {},
   "outputs": [],
   "source": [
    "def phi1x1(x:float, y:float) -> float:\n",
    "    return (1 + math.sqrt(1 + 8 * y**2))/4\n",
    "def phi1x2(x:float, y:float) -> float:\n",
    "    return (1 - math.sqrt(1 + 8*y**2))/4\n",
    "def phi1y1(x:float, y:float) -> float:\n",
    "    return  math.sqrt(- 2*x**2 + x + 1)\n",
    "def phi1y2(x:float, y:float) -> float:\n",
    "    return -math.sqrt(- 2*x**2 + x + 1) \n",
    "def phi2x(x:float, y:float) -> float:\n",
    "    return math.atan(y)\n",
    "def phi2y(x:float, y:float) -> float:\n",
    "    return math.tan(x)\n",
    "def dphi1(x:float, y:float) -> list:\n",
    "    return [0, 1/(y**2 + 1)]\n",
    "def dphi2(x:float, y:float) -> list:\n",
    "    return [(1- 4*x) / (2* math.sqrt(-2 * x**2 + x + 1)), 0] if (-2 * x**2 + x + 1) != 0 else [0, 0]"
   ]
  },
  {
   "cell_type": "markdown",
   "metadata": {},
   "source": [
    "для вычисления ошибки нам необходимо значение q"
   ]
  },
  {
   "cell_type": "code",
   "execution_count": 388,
   "metadata": {},
   "outputs": [],
   "source": [
    "def get_q(x_inter:list, y_inter:list, dphi1:typing.Callable[[float, float], list], dphi2:typing.Callable[[float, float], list]) -> float:\n",
    "    return max([max(abs(dphi1(x, y)[0]) + abs(dphi1(x, y)[1]), abs(dphi2(x, y)[0]) + abs(dphi2(x, y)[1])) for x, y in zip(x_inter, y_inter)])"
   ]
  },
  {
   "cell_type": "code",
   "execution_count": 389,
   "metadata": {},
   "outputs": [],
   "source": [
    "def find_q(x_0:float, x_left:float, x_right:float, y_0:float, y_left:float, y_right:float, get_q:typing.Callable[[list, list, typing.Callable[[float, float], list], typing.Callable[[float, float], list]], float], eps:float) -> (float, float, float, float, float):\n",
    "    x_inter = [i for i in frange(x_left, x_right, 10*eps)]\n",
    "    y_inter = [i for i in frange(y_left, y_right, (y_right - y_left)/ len(x_inter))]\n",
    "    q = get_q(x_inter, y_inter, dphi1, dphi2)\n",
    "    while (x_right > x_left and y_right > y_left) and q > 1:\n",
    "        x_left = (x_left + x_0) / 2\n",
    "        x_right = (x_right + x_0) / 2\n",
    "        y_left = (y_left + y_0) / 2\n",
    "        y_right = (y_right + y_0) / 2\n",
    "        x_inter = [i for i in frange(x_left, x_right, 0.1)]\n",
    "        y_inter = [i for i in frange(y_left, y_right, (y_right - y_left)/ len(x_inter))]\n",
    "        q = get_q(x_inter, y_inter, dphi1, dphi2)\n",
    "    return x_left, x_right, y_left, y_right, q\n",
    "\n",
    "def Simple_iteration_sys(x:float, y:float, phi1:typing.Callable[[float, float], float], phi2:typing.Callable[[float, float], float], eps:float, q:float) -> (float, float, int):\n",
    "    itera = 0\n",
    "    error = 10 * eps\n",
    "    while(error > eps):\n",
    "        x_new = phi1(x, y)\n",
    "        y_new = phi2(x, y)\n",
    "        error = q / (1 - q) * max(abs(x_new - x), abs(y_new - y))\n",
    "        x, y = x_new, y_new\n",
    "        itera += 1\n",
    "    return x, y, itera"
   ]
  },
  {
   "cell_type": "code",
   "execution_count": 390,
   "metadata": {},
   "outputs": [],
   "source": [
    "x_left = 1/4\n",
    "x_right = 1\n",
    "y_left = 0\n",
    "y_right = 3/2/math.sqrt(2)\n",
    "x_inter = [i for i in frange(x_left, x_right, 10*eps)]\n",
    "y_inter = [i for i in frange(y_left, y_right, (y_right - y_left) / len(x_inter))]\n",
    "x_0 = (x_left + x_right) / 2\n",
    "y_0 = (y_left + y_right) / 2"
   ]
  },
  {
   "cell_type": "code",
   "execution_count": 391,
   "metadata": {},
   "outputs": [],
   "source": [
    "new_x_left, new_x_right, new_y_left, new_y_right, q = find_q(x_0, x_left, x_right, y_0, y_left, y_right, get_q, eps)"
   ]
  },
  {
   "cell_type": "markdown",
   "metadata": {},
   "source": [
    "Отлично, всё согласно условиям теоремы"
   ]
  },
  {
   "cell_type": "code",
   "execution_count": 392,
   "metadata": {},
   "outputs": [
    {
     "name": "stdout",
     "output_type": "stream",
     "text": [
      "0.53125 0.71875 0.397747564417433 0.6629126073623883 0.863406408094435\n"
     ]
    }
   ],
   "source": [
    "print(new_x_left, new_x_right, new_y_left, new_y_right, q)"
   ]
  },
  {
   "cell_type": "code",
   "execution_count": 394,
   "metadata": {},
   "outputs": [],
   "source": [
    "x, y = (new_x_left + new_x_right) / 2, (new_y_left + new_y_right) / 2\n",
    "x_ans, y_ans, itera = Simple_iteration_sys(x, y, phi2x, phi1y1, eps, q)"
   ]
  },
  {
   "cell_type": "code",
   "execution_count": 395,
   "metadata": {},
   "outputs": [
    {
     "name": "stdout",
     "output_type": "stream",
     "text": [
      "0.7020103022974876 0.8452261687717129 24\n"
     ]
    }
   ],
   "source": [
    "print(x_ans, y_ans, itera)"
   ]
  },
  {
   "cell_type": "code",
   "execution_count": 396,
   "metadata": {},
   "outputs": [
    {
     "data": {
      "text/plain": [
       "[-0.0019660968573597115, -0.0005045557836269587]"
      ]
     },
     "execution_count": 396,
     "metadata": {},
     "output_type": "execute_result"
    }
   ],
   "source": [
    "fsys(x_ans, y_ans)"
   ]
  },
  {
   "cell_type": "markdown",
   "metadata": {},
   "source": [
    "значения близки к нулю с улловием погрешности"
   ]
  }
 ],
 "metadata": {
  "kernelspec": {
   "display_name": "base",
   "language": "python",
   "name": "python3"
  },
  "language_info": {
   "codemirror_mode": {
    "name": "ipython",
    "version": 3
   },
   "file_extension": ".py",
   "mimetype": "text/x-python",
   "name": "python",
   "nbconvert_exporter": "python",
   "pygments_lexer": "ipython3",
   "version": "3.8.18"
  },
  "orig_nbformat": 4,
  "vscode": {
   "interpreter": {
    "hash": "ddefdade737e51c997c5e18926892d268284fa339a6ce44e8b20ec87e9d210c5"
   }
  }
 },
 "nbformat": 4,
 "nbformat_minor": 2
}
