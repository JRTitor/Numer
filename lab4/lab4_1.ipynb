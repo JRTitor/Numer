{
 "cells": [
  {
   "attachments": {},
   "cell_type": "markdown",
   "metadata": {},
   "source": [
    "4.1. Реализовать методы Эйлера, Рунге-Кутты и Адамса 4-го порядка в виде программ, задавая в качестве входных данных шаг сетки h. С использованием разработанного программного обеспечения решить задачу Коши для ОДУ 2-го порядка на указанном отрезке. Оценить погрешность численного решения с использованием метода Рунге – Ромберга и путем сравнения с точным решением. "
   ]
  },
  {
   "attachments": {},
   "cell_type": "markdown",
   "metadata": {},
   "source": [
    "Вариант 23\n",
    "\n",
    "Задача Коши:\n",
    "\n",
    "$$ x^2 y'' + xy' - y -3x^2 = 0 $$ \n",
    "\n",
    "\n",
    "$$ y(1) = 3,   y'(1) = 2 $$\n",
    "\n",
    "$$x \\in [1,2], h = 0.1$$\n",
    "\n"
   ]
  },
  {
   "attachments": {},
   "cell_type": "markdown",
   "metadata": {},
   "source": [
    "Точное решение: \n",
    "\n",
    "$$ y = x^2 + x + \\frac{1}{x}$$"
   ]
  },
  {
   "cell_type": "code",
   "execution_count": 1,
   "metadata": {},
   "outputs": [
    {
     "name": "stderr",
     "output_type": "stream",
     "text": [
      "\n",
      "Bad key text.latex.preview in file c:\\ProgramData\\Anaconda3\\lib\\site-packages\\matplotlib\\mpl-data\\stylelib\\_classic_test.mplstyle, line 123 ('text.latex.preview : False')\n",
      "You probably need to get an updated matplotlibrc file from\n",
      "https://github.com/matplotlib/matplotlib/blob/v3.7.2/lib/matplotlib/mpl-data/matplotlibrc\n",
      "or from the matplotlib source distribution\n",
      "\n",
      "Bad key mathtext.fallback_to_cm in file c:\\ProgramData\\Anaconda3\\lib\\site-packages\\matplotlib\\mpl-data\\stylelib\\_classic_test.mplstyle, line 155 ('mathtext.fallback_to_cm : True  # When True, use symbols from the Computer Modern')\n",
      "You probably need to get an updated matplotlibrc file from\n",
      "https://github.com/matplotlib/matplotlib/blob/v3.7.2/lib/matplotlib/mpl-data/matplotlibrc\n",
      "or from the matplotlib source distribution\n",
      "\n",
      "Bad key savefig.jpeg_quality in file c:\\ProgramData\\Anaconda3\\lib\\site-packages\\matplotlib\\mpl-data\\stylelib\\_classic_test.mplstyle, line 418 ('savefig.jpeg_quality: 95       # when a jpeg is saved, the default quality parameter.')\n",
      "You probably need to get an updated matplotlibrc file from\n",
      "https://github.com/matplotlib/matplotlib/blob/v3.7.2/lib/matplotlib/mpl-data/matplotlibrc\n",
      "or from the matplotlib source distribution\n",
      "\n",
      "Bad key keymap.all_axes in file c:\\ProgramData\\Anaconda3\\lib\\site-packages\\matplotlib\\mpl-data\\stylelib\\_classic_test.mplstyle, line 466 ('keymap.all_axes : a                 # enable all axes')\n",
      "You probably need to get an updated matplotlibrc file from\n",
      "https://github.com/matplotlib/matplotlib/blob/v3.7.2/lib/matplotlib/mpl-data/matplotlibrc\n",
      "or from the matplotlib source distribution\n",
      "\n",
      "Bad key animation.avconv_path in file c:\\ProgramData\\Anaconda3\\lib\\site-packages\\matplotlib\\mpl-data\\stylelib\\_classic_test.mplstyle, line 477 ('animation.avconv_path: avconv     # Path to avconv binary. Without full path')\n",
      "You probably need to get an updated matplotlibrc file from\n",
      "https://github.com/matplotlib/matplotlib/blob/v3.7.2/lib/matplotlib/mpl-data/matplotlibrc\n",
      "or from the matplotlib source distribution\n",
      "\n",
      "Bad key animation.avconv_args in file c:\\ProgramData\\Anaconda3\\lib\\site-packages\\matplotlib\\mpl-data\\stylelib\\_classic_test.mplstyle, line 479 ('animation.avconv_args:            # Additional arguments to pass to avconv')\n",
      "You probably need to get an updated matplotlibrc file from\n",
      "https://github.com/matplotlib/matplotlib/blob/v3.7.2/lib/matplotlib/mpl-data/matplotlibrc\n",
      "or from the matplotlib source distribution\n"
     ]
    }
   ],
   "source": [
    "import matplotlib.pyplot as plt\n",
    "import typing\n",
    "import math"
   ]
  },
  {
   "cell_type": "code",
   "execution_count": 2,
   "metadata": {},
   "outputs": [],
   "source": [
    "def frange(start:float, stop:float, step:float) -> float:\n",
    "    while start < stop:\n",
    "        yield start\n",
    "        start += step"
   ]
  },
  {
   "attachments": {},
   "cell_type": "markdown",
   "metadata": {},
   "source": [
    "Границы и начальные условия"
   ]
  },
  {
   "cell_type": "code",
   "execution_count": 3,
   "metadata": {},
   "outputs": [],
   "source": [
    "a, b, h = 1, 2, 0.1"
   ]
  },
  {
   "cell_type": "code",
   "execution_count": 4,
   "metadata": {},
   "outputs": [],
   "source": [
    "y, y1 = 3, 2"
   ]
  },
  {
   "cell_type": "code",
   "execution_count": 5,
   "metadata": {},
   "outputs": [],
   "source": [
    "X = [x for x in frange(a, b+h, h)]"
   ]
  },
  {
   "cell_type": "code",
   "execution_count": 6,
   "metadata": {},
   "outputs": [],
   "source": [
    "def f_accurate(x:float) -> float:\n",
    "    return x**2 + x + 1/x"
   ]
  },
  {
   "cell_type": "markdown",
   "metadata": {},
   "source": [
    "Приведём уравнение  к более удобному виду"
   ]
  },
  {
   "attachments": {},
   "cell_type": "markdown",
   "metadata": {},
   "source": [
    "$$ y'' = 3 + \\frac{y}{x^{2}} - \\frac{y'}{x}"
   ]
  },
  {
   "cell_type": "code",
   "execution_count": 7,
   "metadata": {},
   "outputs": [],
   "source": [
    "def f11(x:float, y:float, y1:float) -> float:  \n",
    "    return 3 + y/x**2 - y1/x"
   ]
  },
  {
   "attachments": {},
   "cell_type": "markdown",
   "metadata": {},
   "source": [
    "#### Явный метод Эйлера"
   ]
  },
  {
   "cell_type": "markdown",
   "metadata": {},
   "source": [
    "$$ y_{k+1} = y_k + h f (x_k, y_k) $$"
   ]
  },
  {
   "cell_type": "code",
   "execution_count": 8,
   "metadata": {},
   "outputs": [],
   "source": [
    "def explicit_Euler_y(x:float, x_end:float, y0:float, z0:float, f:typing.Callable[[float, float, float], float], h:float) -> (list, list):\n",
    "    Y = [y0]\n",
    "    Z = [z0]\n",
    "    for i, xx in enumerate(frange(x, x_end, h)):\n",
    "\n",
    "        Z.append(Z[i] + h * f(xx, Y[i], Z[i]))\n",
    "        Y.append(Y[i] + h * Z[i])\n",
    "    return Z, Y"
   ]
  },
  {
   "cell_type": "markdown",
   "metadata": {},
   "source": [
    "### Неявный метод эйлера"
   ]
  },
  {
   "cell_type": "markdown",
   "metadata": {},
   "source": [
    "$$ y_{k+1} = y_k + h f (x_{k+1}, y_{k+1}) $$"
   ]
  },
  {
   "cell_type": "code",
   "execution_count": 9,
   "metadata": {},
   "outputs": [],
   "source": [
    "def secant_method(eps, y, z, x, h):\n",
    "    y_tmp = y\n",
    "    z_tmp = z\n",
    "    stop = int(1/eps)\n",
    "    for _ in range(stop):\n",
    "        y_res = y + h * y_tmp\n",
    "        z_res = z + h * f11(x, y_tmp, z_tmp)\n",
    "        z_tmp, y_tmp = z_res, y_res\n",
    "    return z_res, y_res\n",
    "\n",
    "def implicit_Euler_y(x_0:float, x_n:float, y_0:float, z_0:float, h:float) -> (list, list):\n",
    "    \n",
    "    X = [x_0] + [x + h for x in frange(x_0, x_n, h)]\n",
    "    n = len(X)\n",
    "    Y = [y_0] + [0 for _ in range(n-1)]\n",
    "    Z = [z_0] + [0 for _ in range(n-1)]\n",
    "\n",
    "    for i in range(n-1):\n",
    "        Z[i+1], Y[i+1] = secant_method(1 / (len(X) * 10), Y[i], Z[i], X[i+1], h)\n",
    "    return Z, Y\n",
    "\n"
   ]
  },
  {
   "attachments": {},
   "cell_type": "markdown",
   "metadata": {},
   "source": [
    "#### Методы Рунге-Кутты"
   ]
  },
  {
   "attachments": {},
   "cell_type": "markdown",
   "metadata": {},
   "source": [
    "#### Метод Рунге-Кутты четвертого порядка точности"
   ]
  },
  {
   "cell_type": "code",
   "execution_count": 10,
   "metadata": {},
   "outputs": [],
   "source": [
    "def runge_knutta_4(x:float, x_end:float, y0:float, z0:float, f:typing.Callable[[float, float, float], float], h:float) -> (list, list):\n",
    "\n",
    "    X = [x] + [x + h for x in frange(x, x_end, h)]\n",
    "    n = len(X)\n",
    "    Y = [y0] + [0 for _ in range(n-1)]\n",
    "    Z = [z0] + [0 for _ in range(n-1)]\n",
    "    for i, xx in enumerate(frange(x, x_end, h)):\n",
    "        K1 = h * Z[i]\n",
    "        L1 = h * f(xx, Y[i], Z[i])\n",
    "        K2 = h * (Z[i] + L1 / 2)\n",
    "        L2 = h * f(xx + h / 2, Y[i] + K1 / 2, Z[i] + L1 / 2)\n",
    "        K3 = h * (Z[i] + L2/2) \n",
    "        L3 = h * f(xx + h / 2, Y[i] +  K2 / 2, Z[i] + L2 / 2)\n",
    "        K4 = h * (Z[i] + L3)\n",
    "        L4 = h * f(xx + h, Y[i] +  K3, Z[i] + L3)\n",
    "\n",
    "        delta_y =  (K1 + 2* K2 + 2 * K3 + K4) / 6\n",
    "        delta_z =  (L1 + 2* L2 + 2 * L3 + L4) / 6\n",
    "        Y[i+1] = Y[i] + delta_y\n",
    "        Z[i+1] = Z[i] + delta_z\n",
    "    return Z, Y"
   ]
  },
  {
   "attachments": {},
   "cell_type": "markdown",
   "metadata": {},
   "source": [
    "#### Метод Рунге-Кутты Второго порядка точности"
   ]
  },
  {
   "cell_type": "code",
   "execution_count": 11,
   "metadata": {},
   "outputs": [],
   "source": [
    "def runge_knutta_2(x:float, x_end:float, y0:float, z0:float, f:typing.Callable[[float, float, float], float], h:float) -> (list, list):\n",
    "    X = [x] + [x + h for x in frange(x, x_end, h)]\n",
    "    n = len(X)\n",
    "    Y = [y0] + [0 for _ in range(n-1)]\n",
    "    Z = [z0] + [0 for _ in range(n-1)]\n",
    "    for i, xx in enumerate(frange(x, x_end, h)):\n",
    "        K1 = h * Z[i]\n",
    "        L1 = h * f(xx, Y[i], Z[i])\n",
    "        K2 = h * (Y[i] + L1 / 2)\n",
    "        L2 = h * f(xx + h / 2, Y[i] + K1 / 2, Z[i] + L1 / 2)\n",
    "\n",
    "        delta_y =  (K1 +  K2) / 2\n",
    "        delta_z =  (L1 + L2) / 2\n",
    "        Y[i+1] = Y[i] + delta_y\n",
    "        Z[i+1] = Z[i] + delta_z\n",
    "    return Z, Y"
   ]
  },
  {
   "attachments": {},
   "cell_type": "markdown",
   "metadata": {},
   "source": [
    "### Метод Адамса"
   ]
  },
  {
   "attachments": {},
   "cell_type": "markdown",
   "metadata": {},
   "source": [
    "Второго порядка"
   ]
  },
  {
   "cell_type": "code",
   "execution_count": 12,
   "metadata": {},
   "outputs": [],
   "source": [
    "def Ad2(X:list, h:float, y0:float, z0:float, f11:typing.Callable) -> (list, list):\n",
    "    z, y = runge_knutta_4(X[0], X[-1], y0, z0, f11, h)\n",
    "\n",
    "    for i in range(1, len(X) - 1):\n",
    "        z[i+1] = z[i] + h * (3 * f11(X[i], y[i], z[i]) - f11(X[i-1], y[i-1], z[i-1])) / 2\n",
    "        y[i+1] = y[i] + h * (3 * z[i] - z[i-1]) / 2\n",
    "\n",
    "    return z, y\n"
   ]
  },
  {
   "attachments": {},
   "cell_type": "markdown",
   "metadata": {},
   "source": [
    "Четвертого порядка"
   ]
  },
  {
   "cell_type": "code",
   "execution_count": 13,
   "metadata": {},
   "outputs": [],
   "source": [
    "def Ad4(X:list, h:float, y0:float, z0:float, f11:typing.Callable) -> (list, list):\n",
    "    z, y = runge_knutta_4(X[0], X[-1], y0, z0, f11, h)\n",
    "\n",
    "    for i in range(3, len(X) - 1):\n",
    "        z[i+1] = z[i] + h/24 * (55 * f11(X[i], y[i], z[i]) - 59 * f11(X[i-1], y[i-1], z[i-1]) + 37 * f11(X[i-2], y[i-2], z[i-2]) - 9 * f11(X[i-3], y[i-3], z[i-3]))\n",
    "        y[i+1] = y[i] + h/24 * (55 * z[i] - 59 * z[i-1] + 37 * z[i-2] - 9 * z[i-3])\n",
    "\n",
    "    return z, y"
   ]
  },
  {
   "attachments": {},
   "cell_type": "markdown",
   "metadata": {},
   "source": [
    "### Запуск"
   ]
  },
  {
   "cell_type": "code",
   "execution_count": 14,
   "metadata": {},
   "outputs": [],
   "source": [
    "euler = explicit_Euler_y(a, b, y, y1, f11, h)[1]\n",
    "euler_imp = implicit_Euler_y(a, b, y, y1, h)[1]\n",
    "rg2 = runge_knutta_2(a, b, y, y1, f11, h)[1]\n",
    "rg4 = runge_knutta_4(a, b, y, y1, f11, h)[1]\n",
    "ad2 = Ad2(X, h, y, y1, f11)[1]\n",
    "ad4 = Ad4(X, h, y, y1, f11)[1]\n",
    "y_valid = [f_accurate(x) for x in X]"
   ]
  },
  {
   "cell_type": "code",
   "execution_count": 15,
   "metadata": {},
   "outputs": [
    {
     "data": {
      "image/png": "[encoded data removed]",
      "text/plain": [
       "<Figure size 640x480 with 1 Axes>"
      ]
     },
     "metadata": {},
     "output_type": "display_data"
    }
   ],
   "source": [
    "plt.plot(X, euler, label='Euler explicit')\n",
    "plt.plot(X, euler_imp, label='Euler implicit')\n",
    "plt.plot(X, rg2, label='Runge_Knutta_2')\n",
    "plt.plot(X, rg4, label='Runge_Knutta_4')\n",
    "plt.plot(X, ad2, label='Adams_2')\n",
    "plt.plot(X, ad4, label='Adams_4')\n",
    "plt.plot(X, y_valid, label='True_function', color='black')\n",
    "plt.legend()\n",
    "plt.show()"
   ]
  },
  {
   "cell_type": "markdown",
   "metadata": {},
   "source": [
    "### Оценки погрешностей"
   ]
  },
  {
   "cell_type": "code",
   "execution_count": 16,
   "metadata": {},
   "outputs": [],
   "source": [
    "def runge_rombert(Fh:float, Fkh:float, k:float, p:float) -> float:\n",
    "    return Fh + ((Fh - Fkh) / (k**p - 1))\n",
    "\n",
    "def mse(y_pred:list, y_valid:list) -> float:\n",
    "    return math.sqrt(sum((y1 - y0) ** 2 for y1, y0 in zip(y_pred, y_valid)))"
   ]
  },
  {
   "cell_type": "markdown",
   "metadata": {},
   "source": [
    "Ошибка методом Рунге Ромберта Ричардсона"
   ]
  },
  {
   "cell_type": "code",
   "execution_count": 17,
   "metadata": {},
   "outputs": [
    {
     "name": "stdout",
     "output_type": "stream",
     "text": [
      "Runge Rombert Error Explicit Euler 0.021477289859407313\n",
      "Runge Rombert Error Implicit Euler 0.0740857803807944\n",
      "Runge Rombert Error Runge_Knutta_2 0.0017719974317825684\n",
      "Runge Rombert Error Runge_Knutta_4 1.4619226090897327e-09\n",
      "Runge Rombert Error Adams_2 6.68840770371929e-05\n",
      "Runge Rombert Eerror Adams_4 2.0029836153087567e-07\n"
     ]
    }
   ],
   "source": [
    "print('Runge Rombert Error Explicit Euler', mse(euler, [runge_rombert(e, e_10, h / (h/10), 1) for e, e_10 in zip(euler, explicit_Euler_y(a, b, y, y1, f11, h/10)[1][0::10])] ))\n",
    "print('Runge Rombert Error Implicit Euler', mse(euler_imp, [runge_rombert(e, e_10, h / (h/10), 1) for e, e_10 in zip(euler_imp, implicit_Euler_y(a, b, y, y1, h/10)[1][0::10])] ))\n",
    "print('Runge Rombert Error Runge_Knutta_2', mse(rg2, [runge_rombert(rg, rgg,h / (h/10), 2) for rg, rgg in zip(rg2,  runge_knutta_2(a, b, y, y1, f11, h/10)[1][0::10])]))\n",
    "print('Runge Rombert Error Runge_Knutta_4', mse(rg4, [runge_rombert(rg, rgg,h / (h/10), 4) for rg, rgg in zip(rg4,  runge_knutta_4(a, b, y, y1, f11, h/10)[1][0::10])]))\n",
    "print('Runge Rombert Error Adams_2', mse(ad2,[runge_rombert(ad, add, h / (h/10), 2) for ad, add in zip(ad2, Ad2(X, h/10, y, y1, f11)[1][0::10])]))\n",
    "print('Runge Rombert Eerror Adams_4', mse(ad4, [runge_rombert(ad, add, h / (h/10), 4) for ad, add in zip(ad4, Ad4(X, h/10, y, y1, f11)[1][0::10])]))"
   ]
  },
  {
   "cell_type": "markdown",
   "metadata": {},
   "source": [
    "Ошибка в сравнении с точным значением"
   ]
  },
  {
   "cell_type": "code",
   "execution_count": 18,
   "metadata": {},
   "outputs": [
    {
     "name": "stdout",
     "output_type": "stream",
     "text": [
      "Error Explicit Euler 0.21450048764033647\n",
      "Error Implicit Euler 3.4707535305592576\n",
      "Error Runge_Knutta_2 0.9341967192238859\n",
      "Error Runge_Knutta_4 1.4619162011190374e-05\n",
      "Error Adams_2 0.0060362219275877935\n",
      "Error Adams_4 0.0005266391671021366\n"
     ]
    }
   ],
   "source": [
    "print('Error Explicit Euler', mse(euler, y_valid))\n",
    "print('Error Implicit Euler', mse(euler_imp, y_valid))\n",
    "print('Error Runge_Knutta_2', mse(rg2, y_valid))\n",
    "print('Error Runge_Knutta_4', mse(rg4, y_valid))\n",
    "print('Error Adams_2', mse(ad2, y_valid))\n",
    "print('Error Adams_4', mse(ad4, y_valid))"
   ]
  }
 ],
 "metadata": {
  "kernelspec": {
   "display_name": "base",
   "language": "python",
   "name": "python3"
  },
  "language_info": {
   "codemirror_mode": {
    "name": "ipython",
    "version": 3
   },
   "file_extension": ".py",
   "mimetype": "text/x-python",
   "name": "python",
   "nbconvert_exporter": "python",
   "pygments_lexer": "ipython3",
   "version": "3.8.18"
  },
  "orig_nbformat": 4
 },
 "nbformat": 4,
 "nbformat_minor": 2
}
