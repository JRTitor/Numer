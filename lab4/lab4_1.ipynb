{
 "cells": [
  {
   "attachments": {},
   "cell_type": "markdown",
   "metadata": {},
   "source": [
    "4.1. Реализовать методы Эйлера, Рунге-Кутты и Адамса 4-го порядка в виде программ, задавая в качестве входных данных шаг сетки h. С использованием разработанного программного обеспечения решить задачу Коши для ОДУ 2-го порядка на указанном отрезке. Оценить погрешность численного решения с использованием метода Рунге – Ромберга и путем сравнения с точным решением. "
   ]
  },
  {
   "attachments": {},
   "cell_type": "markdown",
   "metadata": {},
   "source": [
    "Вариант 23\n",
    "\n",
    "Задача Коши:\n",
    "\n",
    "$$ x^2 y'' + xy' - y -3x^2 = 0 $$ \n",
    "\n",
    "\n",
    "$$ y(1) = 3,   y'(1) = 2 $$\n",
    "\n",
    "$$x \\in [1,2], h = 0.1$$\n",
    "\n"
   ]
  },
  {
   "attachments": {},
   "cell_type": "markdown",
   "metadata": {},
   "source": [
    "Точное решение: \n",
    "\n",
    "$$ y = x^2 + x + \\frac{1}{x}$$"
   ]
  },
  {
   "cell_type": "code",
   "execution_count": 84,
   "metadata": {},
   "outputs": [],
   "source": [
    "def frange(start, stop, step):\n",
    "    while start < stop:\n",
    "        yield start\n",
    "        start += step"
   ]
  },
  {
   "attachments": {},
   "cell_type": "markdown",
   "metadata": {},
   "source": [
    "Границы и начальные условия"
   ]
  },
  {
   "cell_type": "code",
   "execution_count": 85,
   "metadata": {},
   "outputs": [],
   "source": [
    "a, b, h = 1, 2, 0.1"
   ]
  },
  {
   "cell_type": "code",
   "execution_count": 86,
   "metadata": {},
   "outputs": [],
   "source": [
    "y, y1 = 3, 2"
   ]
  },
  {
   "cell_type": "code",
   "execution_count": 87,
   "metadata": {},
   "outputs": [],
   "source": [
    "X = [x for x in frange(a, b+h, h)]"
   ]
  },
  {
   "cell_type": "code",
   "execution_count": 88,
   "metadata": {},
   "outputs": [],
   "source": [
    "def f_accurate(x):\n",
    "    return x**2 + x + 1/x"
   ]
  },
  {
   "attachments": {},
   "cell_type": "markdown",
   "metadata": {},
   "source": [
    "$$ y'' = 3 + \\frac{y}{x^{2}} - \\frac{y'}{x}"
   ]
  },
  {
   "attachments": {},
   "cell_type": "markdown",
   "metadata": {},
   "source": [
    "$$ y' = 3x + xy$$"
   ]
  },
  {
   "cell_type": "code",
   "execution_count": 89,
   "metadata": {},
   "outputs": [],
   "source": [
    "def f11(x, y, y1):  #  y' == f(x, y)\n",
    "    return 3 + y/x**2 - y1/x"
   ]
  },
  {
   "attachments": {},
   "cell_type": "markdown",
   "metadata": {},
   "source": [
    "#### Явный метод Эйлера"
   ]
  },
  {
   "cell_type": "code",
   "execution_count": 90,
   "metadata": {},
   "outputs": [],
   "source": [
    "def euler_vivid_y(x, y0, z0, f, h): # p == 1\n",
    "    z = z0 + h * f(x, y0, z0)\n",
    "    y = y0 + h*z\n",
    "    return z, y"
   ]
  },
  {
   "cell_type": "code",
   "execution_count": 91,
   "metadata": {},
   "outputs": [],
   "source": [
    "def error(y11, eps, h):  # eps E [X_k-1, X_k]\n",
    "    return y11(eps) / 2 * h**2"
   ]
  },
  {
   "attachments": {},
   "cell_type": "markdown",
   "metadata": {},
   "source": [
    "#### Неявный метод Эйлера"
   ]
  },
  {
   "cell_type": "code",
   "execution_count": 92,
   "metadata": {},
   "outputs": [],
   "source": [
    "def euler_vauge_y(x, y0, z0, f, h): # p == 1\n",
    "    z = z0 + h * f(x, y0, z0)\n",
    "    y = y0 + h*z\n",
    "    return z, y"
   ]
  },
  {
   "attachments": {},
   "cell_type": "markdown",
   "metadata": {},
   "source": [
    "#### Методы Рунге-Кутты"
   ]
  },
  {
   "attachments": {},
   "cell_type": "markdown",
   "metadata": {},
   "source": [
    "#### Метод Рунге-Кутты четвертого порядка точности"
   ]
  },
  {
   "cell_type": "code",
   "execution_count": 93,
   "metadata": {},
   "outputs": [],
   "source": [
    "def runge_knutta_4(x, y0, z0, f, h):\n",
    "    K1 = h * z0\n",
    "    L1 = h * f(x, y0, z0)\n",
    "    K2 = h * (z0 + L1 / 2)\n",
    "    L2 = h * f(x + h / 2, y0 + K1 / 2, z0 + L1 / 2)\n",
    "    K3 = h * (z0 + L2/2) \n",
    "    L3 = h * f(x + h / 2, y0 +  K2 / 2, z0 + L2 / 2)\n",
    "    K4 = h * (z0 + L3/2)\n",
    "    L4 = h * f(x + h / 2, y0 +  K3 / 2, z0 + L3 / 2)\n",
    "\n",
    "\n",
    "    delta_y =  (K1 + 2* K2 + 2 * K3 + K4) / 6\n",
    "    delta_z =  (L1 + 2* L2 + 2 * L3 + L4) / 6\n",
    "    return z0 + delta_z, y0 + delta_y"
   ]
  },
  {
   "attachments": {},
   "cell_type": "markdown",
   "metadata": {},
   "source": [
    "#### Метод Рунге-Кутты Второго порядка точности"
   ]
  },
  {
   "cell_type": "code",
   "execution_count": 94,
   "metadata": {},
   "outputs": [],
   "source": [
    "def runge_knutta_2(x, y0, z0, f, h):\n",
    "    K1 = h * z0\n",
    "    L1 = h * f(x, y0, z0)\n",
    "    K2 = h * (z0 + L1 / 2)\n",
    "    L2 = h * f(x + h / 2, y0 + K1 / 2, z0 + L1 / 2)\n",
    "\n",
    "\n",
    "    delta_y =  (K1 +  K2) / 2\n",
    "    delta_z =  (L1 + L2) / 2\n",
    "    return z0 + delta_z, y0 + delta_y"
   ]
  },
  {
   "attachments": {},
   "cell_type": "markdown",
   "metadata": {},
   "source": [
    "### Универсальная функция"
   ]
  },
  {
   "cell_type": "code",
   "execution_count": 108,
   "metadata": {},
   "outputs": [],
   "source": [
    "def func(a, b, z, y, step, f11, fun):\n",
    "    y_a, z_a = [y], [z]\n",
    "    for x in frange(a, b, step):\n",
    "        z, y = fun(x, y, z, f11, step)\n",
    "        z_a.append(z)\n",
    "        y_a.append(y)\n",
    "    return y_a, z_a"
   ]
  },
  {
   "attachments": {},
   "cell_type": "markdown",
   "metadata": {},
   "source": [
    "### Метод Адамса"
   ]
  },
  {
   "attachments": {},
   "cell_type": "markdown",
   "metadata": {},
   "source": [
    "Второго порядка"
   ]
  },
  {
   "cell_type": "code",
   "execution_count": 101,
   "metadata": {},
   "outputs": [],
   "source": [
    "def Ad2(X, h, y0, z0, f11):\n",
    "    z, y = func(a, a+2*h , y0, z0, h, f11, runge_knutta_4)\n",
    "\n",
    "    for i in range(1, len(X)):\n",
    "        z.append(z[i] + h * (3 * f11(X[i], y[i], z[i]) - f11(X[i-1], y[i-1], z[i-1])) / 2)\n",
    "        y.append(y[i] + h *( 3*z[i] - z[i-1]) /2)\n",
    "\n",
    "    return z, y\n"
   ]
  },
  {
   "attachments": {},
   "cell_type": "markdown",
   "metadata": {},
   "source": [
    "Четвертого порядка"
   ]
  },
  {
   "cell_type": "code",
   "execution_count": 97,
   "metadata": {},
   "outputs": [],
   "source": [
    "def Ad4(X, h, y0, z0, f11):\n",
    "    z, y = func(a, a+3*h , y0, z0, h, f11, runge_knutta_4)\n",
    "\n",
    "    for i in range(3, len(X)):\n",
    "        z.append(z[i] + h * (55 * f11(X[i], y[i], z[i]) - 59 * f11(X[i-1], y[i-1], z[i-1]) + 37 * f11(X[i-2], y[i-2], z[i-2]) - 9 * f11(X[i-3], y[i-3], z[i-3])) / 24)\n",
    "        y.append(y[i] + h *( 55*z[i] - 59 * z[i-1] + 37 * z[i-2] - 9 * z[i-3]) /24)\n",
    "\n",
    "    return z, y"
   ]
  },
  {
   "attachments": {},
   "cell_type": "markdown",
   "metadata": {},
   "source": [
    "### Запуск"
   ]
  },
  {
   "cell_type": "code",
   "execution_count": 112,
   "metadata": {},
   "outputs": [],
   "source": [
    "euler = func(a, b, y, y1, h, f11, euler_vivid_y)[1]\n",
    "euler_u = func(b, a, y, y1, -h, f11, euler_vauge_y)[1]\n",
    "rg2 = func(a, b, y, y1, h, f11, runge_knutta_2)[1]\n",
    "rg4 = func(a, b, y, y1, h, f11, runge_knutta_4)[1]\n",
    "ad2 = Ad2(X, h, y, y1, f11)\n",
    "ad4 = Ad2(X, h, y, y1, f11)"
   ]
  },
  {
   "cell_type": "code",
   "execution_count": 110,
   "metadata": {},
   "outputs": [
    {
     "data": {
      "text/plain": [
       "([2,\n",
       "  2.3200000000000003,\n",
       "  2.6600826446280994,\n",
       "  3.0202978650137746,\n",
       "  3.4006758072929406,\n",
       "  3.801234283324069,\n",
       "  4.2219832355456735,\n",
       "  4.662927500267278,\n",
       "  5.1240685642968415,\n",
       "  5.605405706757777,\n",
       "  6.106936755035887],\n",
       " [3,\n",
       "  3.2,\n",
       "  3.400826446280992,\n",
       "  3.6021522038567495,\n",
       "  3.803779422791661,\n",
       "  4.005584760311284,\n",
       "  4.207489522216046,\n",
       "  4.409442647216046,\n",
       "  4.611410640295631,\n",
       "  4.813371424609357,\n",
       "  5.015310482781102])"
      ]
     },
     "execution_count": 110,
     "metadata": {},
     "output_type": "execute_result"
    }
   ],
   "source": [
    "euler"
   ]
  },
  {
   "cell_type": "code",
   "execution_count": 111,
   "metadata": {},
   "outputs": [
    {
     "data": {
      "text/plain": [
       "([2], [3])"
      ]
     },
     "execution_count": 111,
     "metadata": {},
     "output_type": "execute_result"
    }
   ],
   "source": [
    "euler_u"
   ]
  },
  {
   "cell_type": "code",
   "execution_count": null,
   "metadata": {},
   "outputs": [
    {
     "data": {
      "text/plain": [
       "[2,\n",
       " 2.305,\n",
       " 2.629978589231836,\n",
       " 2.974903917892047,\n",
       " 3.3397566569019386,\n",
       " 3.7245251739248997,\n",
       " 4.129202698420856,\n",
       " 4.553785594445581,\n",
       " 4.998272276463191,\n",
       " 5.4626625116939955,\n",
       " 5.946956961854916]"
      ]
     },
     "execution_count": 82,
     "metadata": {},
     "output_type": "execute_result"
    }
   ],
   "source": [
    "rg2"
   ]
  },
  {
   "cell_type": "code",
   "execution_count": null,
   "metadata": {},
   "outputs": [
    {
     "data": {
      "text/plain": [
       "[2,\n",
       " 2.30833153367167,\n",
       " 2.6366618534061286,\n",
       " 2.9849796325605142,\n",
       " 3.3532777311226885,\n",
       " 3.7415516470569257,\n",
       " 4.149798584426836,\n",
       " 4.578016873470164,\n",
       " 5.026205599384704,\n",
       " 5.494364359003127,\n",
       " 5.982493098069671]"
      ]
     },
     "execution_count": 83,
     "metadata": {},
     "output_type": "execute_result"
    }
   ],
   "source": [
    "rg4"
   ]
  }
 ],
 "metadata": {
  "kernelspec": {
   "display_name": "base",
   "language": "python",
   "name": "python3"
  },
  "language_info": {
   "codemirror_mode": {
    "name": "ipython",
    "version": 3
   },
   "file_extension": ".py",
   "mimetype": "text/x-python",
   "name": "python",
   "nbconvert_exporter": "python",
   "pygments_lexer": "ipython3",
   "version": "3.9.13"
  },
  "orig_nbformat": 4
 },
 "nbformat": 4,
 "nbformat_minor": 2
}
