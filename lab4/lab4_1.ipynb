{
 "cells": [
  {
   "attachments": {},
   "cell_type": "markdown",
   "metadata": {},
   "source": [
    "4.1. Реализовать методы Эйлера, Рунге-Кутты и Адамса 4-го порядка в виде программ, задавая в качестве входных данных шаг сетки h. С использованием разработанного программного обеспечения решить задачу Коши для ОДУ 2-го порядка на указанном отрезке. Оценить погрешность численного решения с использованием метода Рунге – Ромберга и путем сравнения с точным решением. "
   ]
  },
  {
   "attachments": {},
   "cell_type": "markdown",
   "metadata": {},
   "source": [
    "Вариант 23\n",
    "\n",
    "Задача Коши:\n",
    "\n",
    "$$ x^2 y'' + xy' - y -3x^2 = 0 $$ \n",
    "\n",
    "\n",
    "$$ y(1) = 3,   y'(1) = 2 $$\n",
    "\n",
    "$$x \\in [1,2], h = 0.1$$\n",
    "\n"
   ]
  },
  {
   "attachments": {},
   "cell_type": "markdown",
   "metadata": {},
   "source": [
    "Точное решение: \n",
    "\n",
    "$$ y = x^2 + x + \\frac{1}{x}$$"
   ]
  },
  {
   "cell_type": "code",
   "execution_count": 1,
   "metadata": {},
   "outputs": [],
   "source": [
    "def frange(start, stop, step):\n",
    "    while start < stop:\n",
    "        yield start\n",
    "        start += step"
   ]
  },
  {
   "cell_type": "code",
   "execution_count": 2,
   "metadata": {},
   "outputs": [],
   "source": [
    "a, b, h = 1, 2, 0.1"
   ]
  },
  {
   "cell_type": "code",
   "execution_count": 3,
   "metadata": {},
   "outputs": [],
   "source": [
    "y, y1 = 3, 2"
   ]
  },
  {
   "cell_type": "code",
   "execution_count": 4,
   "metadata": {},
   "outputs": [],
   "source": [
    "X = [x for x in frange(a, b+h, h)]"
   ]
  },
  {
   "cell_type": "code",
   "execution_count": 5,
   "metadata": {},
   "outputs": [],
   "source": [
    "def f_accurate(x):\n",
    "    return x**2 + x + 1/x"
   ]
  },
  {
   "attachments": {},
   "cell_type": "markdown",
   "metadata": {},
   "source": [
    "$$ y'' = 3 + y - \\frac{y'}{x}"
   ]
  },
  {
   "attachments": {},
   "cell_type": "markdown",
   "metadata": {},
   "source": [
    "$$ y' = 3x + xy$$"
   ]
  },
  {
   "cell_type": "code",
   "execution_count": 6,
   "metadata": {},
   "outputs": [],
   "source": [
    "def f11(x, y, y1):  #  y' == f(x, y)\n",
    "    return 3 + y - y1/x"
   ]
  },
  {
   "attachments": {},
   "cell_type": "markdown",
   "metadata": {},
   "source": [
    "#### Явный метод Эйлера"
   ]
  },
  {
   "cell_type": "code",
   "execution_count": 8,
   "metadata": {},
   "outputs": [],
   "source": [
    "def euler_vivid_y(x, y, f, h): # p == 1\n",
    "    return y + h*f(x, y)"
   ]
  },
  {
   "cell_type": "code",
   "execution_count": 9,
   "metadata": {},
   "outputs": [],
   "source": [
    "def error(y11, eps, h):  # eps E [X_k-1, X_k]\n",
    "    return y11(eps) / 2 * h**2"
   ]
  },
  {
   "attachments": {},
   "cell_type": "markdown",
   "metadata": {},
   "source": [
    "#### Неявный метод Эйлера"
   ]
  },
  {
   "cell_type": "code",
   "execution_count": 10,
   "metadata": {},
   "outputs": [],
   "source": [
    "def check_conditions_newton(f, f11, a, b, x_num):\n",
    "    if f(a) * f(b) < 0 and f(x_num) * f11(x_num) > 0:\n",
    "        return 1\n",
    "    else:\n",
    "        return 0"
   ]
  },
  {
   "cell_type": "code",
   "execution_count": 11,
   "metadata": {},
   "outputs": [],
   "source": [
    "def Newton(X, eps, f, f11, a, b):\n",
    "    if check_conditions_newton(f, f11, a, b, X):\n",
    "        error = 10 * eps\n",
    "        itera = 0\n",
    "        while (error > eps):\n",
    "            X_new = X - (f(X)/f1(X))\n",
    "            error = abs(X_new - X)\n",
    "            X = X_new\n",
    "            itera += 1\n",
    "        return X_new, itera\n",
    "    else:\n",
    "        print(\"Contitions are broken\")"
   ]
  },
  {
   "cell_type": "code",
   "execution_count": 12,
   "metadata": {},
   "outputs": [],
   "source": [
    "def euler_vauge_y(x1, y, f, h): # p == 1\n",
    "    y1 = y + h * f(x1, y1)"
   ]
  },
  {
   "attachments": {},
   "cell_type": "markdown",
   "metadata": {},
   "source": [
    "#### Метод Эйлера-Коши"
   ]
  },
  {
   "cell_type": "code",
   "execution_count": 13,
   "metadata": {},
   "outputs": [],
   "source": [
    "def cauche_euler(x, y, f, h):  # p = 2\n",
    "    y_tmp = y + h * f(x, y)\n",
    "    return y + h * (f(x, y) + f(x+h, y_tmp)) / 2"
   ]
  },
  {
   "attachments": {},
   "cell_type": "markdown",
   "metadata": {},
   "source": [
    "#### Неявный метод Эйлера-Коши"
   ]
  },
  {
   "cell_type": "code",
   "execution_count": 14,
   "metadata": {},
   "outputs": [],
   "source": [
    "def vauge_cauche_euler(x, y, f, h):\n",
    "    y1 = y + h* (f(x, y) + f(x+h, y1)) / 2"
   ]
  },
  {
   "attachments": {},
   "cell_type": "markdown",
   "metadata": {},
   "source": [
    "#### Метод Эйлера-Коши с итерационной обработкой"
   ]
  },
  {
   "cell_type": "code",
   "execution_count": 15,
   "metadata": {},
   "outputs": [],
   "source": [
    "def cauche_euler_iter(x, y, f, h):  # p == 2\n",
    "    y_tmp = y + h * f(x, y)\n",
    "    for i in range(4):\n",
    "        y_res = y + h * (f(x, y) + f(x+h, y_tmp)) / 2\n",
    "        y_tmp = y_res\n",
    "    return y_res"
   ]
  },
  {
   "attachments": {},
   "cell_type": "markdown",
   "metadata": {},
   "source": [
    "#### Первый улучшенный метод Эйлера"
   ]
  },
  {
   "cell_type": "code",
   "execution_count": 16,
   "metadata": {},
   "outputs": [],
   "source": [
    "def cauche_euler_improved(x, y, f, h): # p == 2\n",
    "    y_half = y + h/2 * f(x, y)\n",
    "    return y + h * f(x + h / 2, y_half)"
   ]
  },
  {
   "attachments": {},
   "cell_type": "markdown",
   "metadata": {},
   "source": [
    "#### Методы Рунге-Кутты"
   ]
  },
  {
   "attachments": {},
   "cell_type": "markdown",
   "metadata": {},
   "source": [
    "#### Метод Рунге-Кутты третьего порядка точности"
   ]
  },
  {
   "cell_type": "code",
   "execution_count": 17,
   "metadata": {},
   "outputs": [],
   "source": [
    "def runge_knutta_3(x, y, f, h):\n",
    "    K1 = h * f(x, y)\n",
    "    K2 = h * f(x + 1/2 * h, y + 1/3 * K1)\n",
    "    K3 = h * f(x + 3/2 * h, y + 2/3 * K2)\n",
    "    delta_y =  (K1 + 3 * K3) / 4\n",
    "    return y + delta_y"
   ]
  },
  {
   "attachments": {},
   "cell_type": "markdown",
   "metadata": {},
   "source": [
    "#### Метод Рунге-Кутты четвертого порядка точности"
   ]
  },
  {
   "cell_type": "code",
   "execution_count": 18,
   "metadata": {},
   "outputs": [],
   "source": [
    "def runge_knutta_4(x, y, f, h):\n",
    "    K1 = h * f(x, y)\n",
    "    K2 = h * f(x + h / 2, y + K1 / 2)\n",
    "    K3 = h * f(x + h / 2, y +  K2 / 2)\n",
    "    K4 = h * f(x + h, y + K3)\n",
    "    delta_y =  (K1 + 2* K2 + 2 * K3 + K4) / 6\n",
    "    return y + delta_y"
   ]
  },
  {
   "attachments": {},
   "cell_type": "markdown",
   "metadata": {},
   "source": [
    "### Универсальная функция"
   ]
  },
  {
   "cell_type": "code",
   "execution_count": 19,
   "metadata": {},
   "outputs": [],
   "source": [
    "def func(a, b, z ,step, f11, fun):\n",
    "    data = []\n",
    "    for x in frange(a, b + step, step):\n",
    "        data.append(x, fun(x, z, f11, h))"
   ]
  }
 ],
 "metadata": {
  "kernelspec": {
   "display_name": "base",
   "language": "python",
   "name": "python3"
  },
  "language_info": {
   "codemirror_mode": {
    "name": "ipython",
    "version": 3
   },
   "file_extension": ".py",
   "mimetype": "text/x-python",
   "name": "python",
   "nbconvert_exporter": "python",
   "pygments_lexer": "ipython3",
   "version": "3.9.13"
  },
  "orig_nbformat": 4
 },
 "nbformat": 4,
 "nbformat_minor": 2
}
