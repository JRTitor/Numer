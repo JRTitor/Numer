{
 "cells": [
  {
   "attachments": {},
   "cell_type": "markdown",
   "metadata": {},
   "source": [
    "4.1. Реализовать методы Эйлера, Рунге-Кутты и Адамса 4-го порядка в виде программ, задавая в качестве входных данных шаг сетки h. С использованием разработанного программного обеспечения решить задачу Коши для ОДУ 2-го порядка на указанном отрезке. Оценить погрешность численного решения с использованием метода Рунге – Ромберга и путем сравнения с точным решением. "
   ]
  },
  {
   "attachments": {},
   "cell_type": "markdown",
   "metadata": {},
   "source": [
    "Вариант 23\n",
    "\n",
    "Задача Коши:\n",
    "\n",
    "$$ x^2 y'' + xy' - y -3x^2 = 0 $$ \n",
    "\n",
    "\n",
    "$$ y(1) = 3,   y'(1) = 2 $$\n",
    "\n",
    "$$x \\in [1,2], h = 0.1$$\n",
    "\n"
   ]
  },
  {
   "attachments": {},
   "cell_type": "markdown",
   "metadata": {},
   "source": [
    "Точное решение: \n",
    "\n",
    "$$ y = x^2 + x + \\frac{1}{x}$$"
   ]
  },
  {
   "cell_type": "code",
   "execution_count": 129,
   "metadata": {},
   "outputs": [],
   "source": [
    "import matplotlib.pyplot as plt\n",
    "import typing\n",
    "import math"
   ]
  },
  {
   "cell_type": "code",
   "execution_count": 111,
   "metadata": {},
   "outputs": [],
   "source": [
    "def frange(start:float, stop:float, step:float) -> float:\n",
    "    while start < stop:\n",
    "        yield start\n",
    "        start += step"
   ]
  },
  {
   "attachments": {},
   "cell_type": "markdown",
   "metadata": {},
   "source": [
    "Границы и начальные условия"
   ]
  },
  {
   "cell_type": "code",
   "execution_count": 112,
   "metadata": {},
   "outputs": [],
   "source": [
    "a, b, h = 1, 2, 0.1"
   ]
  },
  {
   "cell_type": "code",
   "execution_count": 113,
   "metadata": {},
   "outputs": [],
   "source": [
    "y, y1 = 3, 2"
   ]
  },
  {
   "cell_type": "code",
   "execution_count": 114,
   "metadata": {},
   "outputs": [],
   "source": [
    "X = [x for x in frange(a, b+h, h)]"
   ]
  },
  {
   "cell_type": "code",
   "execution_count": 115,
   "metadata": {},
   "outputs": [],
   "source": [
    "def f_accurate(x:float) -> float:\n",
    "    return x**2 + x + 1/x"
   ]
  },
  {
   "cell_type": "markdown",
   "metadata": {},
   "source": [
    "Приведём уравнение  к более удобному виду"
   ]
  },
  {
   "attachments": {},
   "cell_type": "markdown",
   "metadata": {},
   "source": [
    "$$ y'' = 3 + \\frac{y}{x^{2}} - \\frac{y'}{x}"
   ]
  },
  {
   "cell_type": "code",
   "execution_count": 116,
   "metadata": {},
   "outputs": [],
   "source": [
    "def f11(x:float, y:float, y1:float) -> float:  #  y' == f(x, y)\n",
    "    return 3 + y/x**2 - y1/x"
   ]
  },
  {
   "attachments": {},
   "cell_type": "markdown",
   "metadata": {},
   "source": [
    "#### Явный метод Эйлера"
   ]
  },
  {
   "cell_type": "code",
   "execution_count": 117,
   "metadata": {},
   "outputs": [],
   "source": [
    "def euler_vivid_y(x:float, y0:float, z0:float, f:typing.Callable[[float, float, float], float], h:float) -> (float, float): # p == 1\n",
    "    z = z0 + h * f(x, y0, z0)\n",
    "    y = y0 + h * z\n",
    "    return z, y"
   ]
  },
  {
   "attachments": {},
   "cell_type": "markdown",
   "metadata": {},
   "source": [
    "#### Методы Рунге-Кутты"
   ]
  },
  {
   "attachments": {},
   "cell_type": "markdown",
   "metadata": {},
   "source": [
    "#### Метод Рунге-Кутты четвертого порядка точности"
   ]
  },
  {
   "cell_type": "code",
   "execution_count": 118,
   "metadata": {},
   "outputs": [],
   "source": [
    "def runge_knutta_4(x:float, y0:float, z0:float, f:typing.Callable[[float, float, float], float], h:float) -> (float, float):\n",
    "    K1 = h * z0\n",
    "    L1 = h * f(x, y0, z0)\n",
    "    K2 = h * (z0 + L1 / 2)\n",
    "    L2 = h * f(x + h / 2, y0 + K1 / 2, z0 + L1 / 2)\n",
    "    K3 = h * (z0 + L2/2) \n",
    "    L3 = h * f(x + h / 2, y0 +  K2 / 2, z0 + L2 / 2)\n",
    "    K4 = h * (z0 + L3)\n",
    "    L4 = h * f(x + h, y0 +  K3, z0 + L3)\n",
    "\n",
    "    delta_y =  (K1 + 2* K2 + 2 * K3 + K4) / 6\n",
    "    delta_z =  (L1 + 2* L2 + 2 * L3 + L4) / 6\n",
    "    return z0 + delta_z, y0 + delta_y"
   ]
  },
  {
   "attachments": {},
   "cell_type": "markdown",
   "metadata": {},
   "source": [
    "#### Метод Рунге-Кутты Второго порядка точности"
   ]
  },
  {
   "cell_type": "code",
   "execution_count": 119,
   "metadata": {},
   "outputs": [],
   "source": [
    "def runge_knutta_2(x:float, y0:float, z0:float, f:typing.Callable[[float, float, float], float], h:float) -> (float, float):\n",
    "    K1 = h * z0\n",
    "    L1 = h * f(x, y0, z0)\n",
    "    K2 = h * (z0 + L1 / 2)\n",
    "    L2 = h * f(x + h / 2, y0 + K1 / 2, z0 + L1 / 2)\n",
    "\n",
    "    delta_y =  (K1 +  K2) / 2\n",
    "    delta_z =  (L1 + L2) / 2\n",
    "    return z0 + delta_z, y0 + delta_y"
   ]
  },
  {
   "attachments": {},
   "cell_type": "markdown",
   "metadata": {},
   "source": [
    "### Универсальная функция"
   ]
  },
  {
   "cell_type": "code",
   "execution_count": 120,
   "metadata": {},
   "outputs": [],
   "source": [
    "def func(a:float, b:float, z:float, y:float, step:float, f11:typing.Callable, fun:typing.Callable) -> (list, list):\n",
    "    y_a, z_a = [y], [z]\n",
    "    for x in frange(a+h, b+h, step):\n",
    "        z, y = fun(x, y, z, f11, step)\n",
    "        z_a.append(z)\n",
    "        y_a.append(y)\n",
    "    return y_a, z_a"
   ]
  },
  {
   "attachments": {},
   "cell_type": "markdown",
   "metadata": {},
   "source": [
    "### Метод Адамса"
   ]
  },
  {
   "attachments": {},
   "cell_type": "markdown",
   "metadata": {},
   "source": [
    "Второго порядка"
   ]
  },
  {
   "cell_type": "code",
   "execution_count": 121,
   "metadata": {},
   "outputs": [],
   "source": [
    "def Ad2(X:list, h:float, y0:float, z0:float, f11:typing.Callable) -> (list, list):\n",
    "    z, y = func(a, a+h, y0, z0, h, f11, runge_knutta_4)\n",
    "\n",
    "    for i in range(1, len(X) - 1):\n",
    "        z.append(z[i] + h * (3 * f11(X[i], y[i], z[i]) - f11(X[i-1], y[i-1], z[i-1])) / 2)\n",
    "        y.append(y[i] + h * (3 * z[i] - z[i-1]) / 2)\n",
    "\n",
    "    return z, y\n"
   ]
  },
  {
   "attachments": {},
   "cell_type": "markdown",
   "metadata": {},
   "source": [
    "Четвертого порядка"
   ]
  },
  {
   "cell_type": "code",
   "execution_count": 207,
   "metadata": {},
   "outputs": [],
   "source": [
    "def Ad4(X:list, h:float, y0:float, z0:float, f11:typing.Callable) -> (list, list):\n",
    "    z, y = func(a, a+3*h , y0, z0, h, f11, runge_knutta_4)\n",
    "\n",
    "    for i in range(3, len(X) - 1):\n",
    "        z.append(z[i] + h * (55 * f11(X[i], y[i], z[i]) - 59 * f11(X[i-1], y[i-1], z[i-1]) + 37 * f11(X[i-2], y[i-2], z[i-2]) - 9 * f11(X[i-3], y[i-3], z[i-3])) / 24)\n",
    "        y.append(y[i] + h * (55 * z[i] - 59 * z[i-1] + 37 * z[i-2] - 9 * z[i-3]) /24)\n",
    "\n",
    "    return z, y"
   ]
  },
  {
   "attachments": {},
   "cell_type": "markdown",
   "metadata": {},
   "source": [
    "### Запуск"
   ]
  },
  {
   "cell_type": "code",
   "execution_count": 208,
   "metadata": {},
   "outputs": [],
   "source": [
    "euler = func(a, b, y, y1, h, f11, euler_vivid_y)[1]\n",
    "rg2 = func(a, b, y, y1, h, f11, runge_knutta_2)[1]\n",
    "rg4 = func(a, b, y, y1, h, f11, runge_knutta_4)[1]\n",
    "ad2 = Ad2(X, h, y, y1, f11)[1]\n",
    "ad4 = Ad4(X, h, y, y1, f11)[1]\n",
    "y_valid = [f_accurate(x) for x in X]"
   ]
  },
  {
   "cell_type": "code",
   "execution_count": 209,
   "metadata": {},
   "outputs": [
    {
     "data": {
      "image/png": "[encoded data removed]",
      "text/plain": [
       "<Figure size 640x480 with 1 Axes>"
      ]
     },
     "metadata": {},
     "output_type": "display_data"
    }
   ],
   "source": [
    "plt.plot(X, euler, label='Euler')\n",
    "plt.plot(X, rg2, label='Runge_Knutta_2')\n",
    "plt.plot(X, rg4, label='Runge_Knutta_4')\n",
    "plt.plot(X, ad2, label='Adams_2')\n",
    "plt.plot(X, ad4, label='Adams_4')\n",
    "plt.plot(X, y_valid, label='True_function')\n",
    "plt.legend()\n",
    "plt.show()"
   ]
  },
  {
   "cell_type": "markdown",
   "metadata": {},
   "source": [
    "### Оценки погрешностей"
   ]
  },
  {
   "cell_type": "code",
   "execution_count": 210,
   "metadata": {},
   "outputs": [],
   "source": [
    "def runge_rombert(Fh:float, Fkh:float, k:float, p:float) -> float:\n",
    "    return Fh + ((Fh - Fkh) / (k**p - 1))\n",
    "\n",
    "def mse(y_pred:list, y_valid:list) -> float:\n",
    "    return math.sqrt(sum((y1 - y0) ** 2 for y1, y0 in zip(y_pred, y_valid)))"
   ]
  },
  {
   "cell_type": "markdown",
   "metadata": {},
   "source": [
    "Ошибка методом Рунге Ромберта Ричардсона"
   ]
  },
  {
   "cell_type": "code",
   "execution_count": 211,
   "metadata": {},
   "outputs": [
    {
     "name": "stdout",
     "output_type": "stream",
     "text": [
      "Runge Rombert Error Euler 3.7966141932895723\n",
      "Runge Rombert Error Runge_Knutta_2 3.4834159176558006\n",
      "Runge Rombert Error Runge_Knutta_4 3.476206465565569\n",
      "Runge Rombert Error Adams_2 5.787161774815183\n",
      "Runge Rombert Eerror Adams_4 5.433770979239606\n"
     ]
    }
   ],
   "source": [
    "print('Runge Rombert Error Euler', mse(euler, [runge_rombert(e, e_10, h - h/5, 1) for e, e_10 in zip(euler, func(a, b, y, y1, h/10, f11, euler_vivid_y)[1])] ))\n",
    "print('Runge Rombert Error Runge_Knutta_2', mse(rg2, [runge_rombert(rg, rgg,h - h/5, 2) for rg, rgg in zip(rg2,  func(a, b, y, y1, h/10, f11, runge_knutta_2)[1])]))\n",
    "print('Runge Rombert Error Runge_Knutta_4', mse(rg4, [runge_rombert(rg, rgg,h - h/5, 4) for rg, rgg in zip(rg2,  func(a, b, y, y1, h/10, f11, runge_knutta_4)[1])]))\n",
    "print('Runge Rombert Error Adams_2', mse(ad2,[runge_rombert(ad, add, h - h/5, 2) for ad, add in zip(ad2, Ad2(X, h/10, y, y1, f11)[1])]))\n",
    "print('Runge Rombert Eerror Adams_4', mse(ad4, [runge_rombert(ad, add, h - h/5, 4) for ad, add in zip(ad4, Ad4(X, h/10, y, y1, f11)[1])]))"
   ]
  },
  {
   "cell_type": "markdown",
   "metadata": {},
   "source": [
    "Ошибка в сравнении с точным значением"
   ]
  },
  {
   "cell_type": "code",
   "execution_count": 212,
   "metadata": {},
   "outputs": [
    {
     "name": "stdout",
     "output_type": "stream",
     "text": [
      "Error Euler 2.496292433838972\n",
      "Error Runge_Knutta_2 2.528656526331737\n",
      "Error Runge_Knutta_4 2.5137816050372015\n",
      "Error Adams_2 0.178548882723426\n",
      "Error Adams_4 0.5378715566702299\n"
     ]
    }
   ],
   "source": [
    "print('Error Euler', mse(euler, y_valid))\n",
    "print('Error Runge_Knutta_2', mse(rg2, y_valid))\n",
    "print('Error Runge_Knutta_4', mse(rg4, y_valid))\n",
    "print('Error Adams_2', mse(ad2, y_valid))\n",
    "print('Error Adams_4', mse(ad4, y_valid))"
   ]
  }
 ],
 "metadata": {
  "kernelspec": {
   "display_name": "base",
   "language": "python",
   "name": "python3"
  },
  "language_info": {
   "codemirror_mode": {
    "name": "ipython",
    "version": 3
   },
   "file_extension": ".py",
   "mimetype": "text/x-python",
   "name": "python",
   "nbconvert_exporter": "python",
   "pygments_lexer": "ipython3",
   "version": "3.8.18"
  },
  "orig_nbformat": 4
 },
 "nbformat": 4,
 "nbformat_minor": 2
}
