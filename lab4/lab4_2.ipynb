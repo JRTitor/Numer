{
 "cells": [
  {
   "attachments": {},
   "cell_type": "markdown",
   "metadata": {},
   "source": [
    "4.2. Реализовать метод стрельбы и конечно-разностный метод решения краевой задачи для ОДУ в виде программ. С использованием разработанного программного обеспечения решить краевую задачу для обыкновенного дифференциального уравнения 2-го порядка на указанном отрезке. Оценить погрешность численного решения с использованием метода Рунге – Ромберга и путем сравнения с точным решением. "
   ]
  },
  {
   "attachments": {},
   "cell_type": "markdown",
   "metadata": {},
   "source": [
    "Варинаит 23\n",
    "\n",
    "Краевая задача $$ x(x^2 + 6)y'' - 4(x^2 + 3)y' +6xy = 0$$ $$y'(0) = 0 $$ $$y(4) - y'(4) = 26 $$\n",
    "Точное решение $$y(x) = x^3 + x^2 + 2$$"
   ]
  },
  {
   "attachments": {},
   "cell_type": "markdown",
   "metadata": {},
   "source": [
    "Ввразим $y''$\n",
    "$$y'' = \\frac{4y'(x^2 + 3)}{x(x^2 + 6)} - \\frac{6y}{x^2 + 6}$$"
   ]
  },
  {
   "cell_type": "code",
   "execution_count": null,
   "metadata": {},
   "outputs": [],
   "source": [
    "import typing"
   ]
  },
  {
   "cell_type": "code",
   "execution_count": 1,
   "metadata": {},
   "outputs": [],
   "source": [
    "a, b = 0, 4\n",
    "h = 0.1"
   ]
  },
  {
   "cell_type": "code",
   "execution_count": 4,
   "metadata": {},
   "outputs": [],
   "source": [
    "def f11 (x:float, y:float, y1:float) -> float:\n",
    "    return 4 * y1 * (x**2 + 3) / x / (x**2 + 6) - 6 * y /(x**2 + 6) \n",
    "\n",
    "def frange(start:float, stop:float, step:float) -> float:\n",
    "    while start < stop:\n",
    "        yield start\n",
    "        start += step\n",
    "\n",
    "def runge_knutta_4(x:float, y0:float, z0:float, f:typing.Callable[[float, float, float], float], h:float) -> (float, float):\n",
    "    K1 = h * z0\n",
    "    L1 = h * f(x, y0, z0)\n",
    "    K2 = h * (z0 + L1 / 2)\n",
    "    L2 = h * f(x + h / 2, y0 + K1 / 2, z0 + L1 / 2)\n",
    "    K3 = h * (z0 + L2/2) \n",
    "    L3 = h * f(x + h / 2, y0 +  K2 / 2, z0 + L2 / 2)\n",
    "    K4 = h * (z0 + L3/2)\n",
    "    L4 = h * f(x + h / 2, y0 +  K3 / 2, z0 + L3 / 2)\n",
    "\n",
    "\n",
    "    delta_y =  (K1 + 2* K2 + 2 * K3 + K4) / 6\n",
    "    delta_z =  (L1 + 2* L2 + 2 * L3 + L4) / 6\n",
    "    return z0 + delta_z, y0 + delta_y\n",
    "\n",
    "def func(a:float, b:float, z:float, y:float, step:float, f11:typing.Callable, fun:typing.Callable) -> list:\n",
    "    data = [y]\n",
    "    for x in frange(a, b, step):\n",
    "        z, y = fun(x, y, z, f11, step)\n",
    "        data.append(y)\n",
    "    return data\n",
    "\n",
    "def derivative(x:list, y:list, x0:float):\n",
    "    i = 0\n",
    "    while i < len(x) - 1 and x[i + 1] < x0:\n",
    "        i += 1\n",
    "    return (y[i + 1] - y[i]) / (x[i + 1] - x[i])"
   ]
  },
  {
   "cell_type": "code",
   "execution_count": 5,
   "metadata": {},
   "outputs": [],
   "source": [
    "def shooting(a:float, b:float, h:float, y0:float, y1:float, eps:float, f:typing.Callable) -> list:\n",
    "    etta1, etta2 = 1,  0.8\n",
    "\n",
    "    phi1 = func(a, b, etta1, y0, h, f, runge_knutta_4)[-1] - y1\n",
    "    phi2 = func(a, b, etta2, y0, h, f, runge_knutta_4)[-1] - y1\n",
    "    error = 10 * eps\n",
    "    while error > eps:\n",
    "        nu1, nu2 = nu2, nu2 - phi2 * (nu2 - nu1) / (phi2 - phi1)\n",
    "        phi1, phi2 = phi2, func(a, b, nu2, y0, h, f, runge_knutta_4)[-1] - y1\n",
    "        error = abs(phi1 - phi2)\n",
    "\n",
    "    return func(a, b, nu2, y0, h, f, runge_knutta_4)"
   ]
  }
 ],
 "metadata": {
  "kernelspec": {
   "display_name": "base",
   "language": "python",
   "name": "python3"
  },
  "language_info": {
   "codemirror_mode": {
    "name": "ipython",
    "version": 3
   },
   "file_extension": ".py",
   "mimetype": "text/x-python",
   "name": "python",
   "nbconvert_exporter": "python",
   "pygments_lexer": "ipython3",
   "version": "3.8.18"
  },
  "orig_nbformat": 4
 },
 "nbformat": 4,
 "nbformat_minor": 2
}
