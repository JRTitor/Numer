{
 "cells": [
  {
   "attachments": {},
   "cell_type": "markdown",
   "metadata": {},
   "source": [
    "4.2. Реализовать метод стрельбы и конечно-разностный метод решения краевой задачи для ОДУ в виде программ. С использованием разработанного программного обеспечения решить краевую задачу для обыкновенного дифференциального уравнения 2-го порядка на указанном отрезке. Оценить погрешность численного решения с использованием метода Рунге – Ромберга и путем сравнения с точным решением. "
   ]
  },
  {
   "attachments": {},
   "cell_type": "markdown",
   "metadata": {},
   "source": [
    "Варинаит 23\n",
    "\n",
    "Краевая задача $$ x(x^2 + 6)y'' - 4(x^2 + 3)y' +6xy = 0$$ $$y'(0) = 0  \\\\ 0  \\alpha + \\beta= y_a $$ $$y(4) - y'(4) = 26 \\\\ \\delta - \\gamma = y_b $$\n",
    "Точное решение $$y(x) = x^3 + x^2 + 2$$"
   ]
  },
  {
   "attachments": {},
   "cell_type": "markdown",
   "metadata": {},
   "source": [
    "Ввразим $y''$\n",
    "$$y'' = \\frac{4y'(x^2 + 3)}{x(x^2 + 6)} - \\frac{6y}{x^2 + 6}$$"
   ]
  },
  {
   "cell_type": "code",
   "execution_count": 1,
   "metadata": {},
   "outputs": [
    {
     "name": "stderr",
     "output_type": "stream",
     "text": [
      "\n",
      "Bad key text.latex.preview in file c:\\ProgramData\\Anaconda3\\lib\\site-packages\\matplotlib\\mpl-data\\stylelib\\_classic_test.mplstyle, line 123 ('text.latex.preview : False')\n",
      "You probably need to get an updated matplotlibrc file from\n",
      "https://github.com/matplotlib/matplotlib/blob/v3.7.2/lib/matplotlib/mpl-data/matplotlibrc\n",
      "or from the matplotlib source distribution\n",
      "\n",
      "Bad key mathtext.fallback_to_cm in file c:\\ProgramData\\Anaconda3\\lib\\site-packages\\matplotlib\\mpl-data\\stylelib\\_classic_test.mplstyle, line 155 ('mathtext.fallback_to_cm : True  # When True, use symbols from the Computer Modern')\n",
      "You probably need to get an updated matplotlibrc file from\n",
      "https://github.com/matplotlib/matplotlib/blob/v3.7.2/lib/matplotlib/mpl-data/matplotlibrc\n",
      "or from the matplotlib source distribution\n",
      "\n",
      "Bad key savefig.jpeg_quality in file c:\\ProgramData\\Anaconda3\\lib\\site-packages\\matplotlib\\mpl-data\\stylelib\\_classic_test.mplstyle, line 418 ('savefig.jpeg_quality: 95       # when a jpeg is saved, the default quality parameter.')\n",
      "You probably need to get an updated matplotlibrc file from\n",
      "https://github.com/matplotlib/matplotlib/blob/v3.7.2/lib/matplotlib/mpl-data/matplotlibrc\n",
      "or from the matplotlib source distribution\n",
      "\n",
      "Bad key keymap.all_axes in file c:\\ProgramData\\Anaconda3\\lib\\site-packages\\matplotlib\\mpl-data\\stylelib\\_classic_test.mplstyle, line 466 ('keymap.all_axes : a                 # enable all axes')\n",
      "You probably need to get an updated matplotlibrc file from\n",
      "https://github.com/matplotlib/matplotlib/blob/v3.7.2/lib/matplotlib/mpl-data/matplotlibrc\n",
      "or from the matplotlib source distribution\n",
      "\n",
      "Bad key animation.avconv_path in file c:\\ProgramData\\Anaconda3\\lib\\site-packages\\matplotlib\\mpl-data\\stylelib\\_classic_test.mplstyle, line 477 ('animation.avconv_path: avconv     # Path to avconv binary. Without full path')\n",
      "You probably need to get an updated matplotlibrc file from\n",
      "https://github.com/matplotlib/matplotlib/blob/v3.7.2/lib/matplotlib/mpl-data/matplotlibrc\n",
      "or from the matplotlib source distribution\n",
      "\n",
      "Bad key animation.avconv_args in file c:\\ProgramData\\Anaconda3\\lib\\site-packages\\matplotlib\\mpl-data\\stylelib\\_classic_test.mplstyle, line 479 ('animation.avconv_args:            # Additional arguments to pass to avconv')\n",
      "You probably need to get an updated matplotlibrc file from\n",
      "https://github.com/matplotlib/matplotlib/blob/v3.7.2/lib/matplotlib/mpl-data/matplotlibrc\n",
      "or from the matplotlib source distribution\n"
     ]
    }
   ],
   "source": [
    "import typing\n",
    "import matplotlib.pyplot as plt\n",
    "import math"
   ]
  },
  {
   "cell_type": "code",
   "execution_count": 2,
   "metadata": {},
   "outputs": [],
   "source": [
    "def f_accurate(x:float) -> float:\n",
    "    return x**3 + x**2 + 2"
   ]
  },
  {
   "cell_type": "markdown",
   "metadata": {},
   "source": [
    "Оценка"
   ]
  },
  {
   "cell_type": "code",
   "execution_count": 3,
   "metadata": {},
   "outputs": [],
   "source": [
    "def runge_rombert(Fh:float, Fkh:float, k:float, p:float) -> float:\n",
    "    return Fh + ((Fh - Fkh) / (k**p - 1))\n",
    "\n",
    "def mse(y_pred:list, y_valid:list) -> float:\n",
    "    return math.sqrt(sum((y1 - y0) ** 2 for y1, y0 in zip(y_pred, y_valid)))"
   ]
  },
  {
   "cell_type": "code",
   "execution_count": 4,
   "metadata": {},
   "outputs": [],
   "source": [
    "xa, xb = 0, 4\n",
    "n = 10\n",
    "h = (xb - xa) / n\n",
    "alpha = 0\n",
    "betta = 1\n",
    "delta = 1\n",
    "gamma = -1\n",
    "ya = 0\n",
    "yn = 26\n",
    "\n",
    "\n"
   ]
  },
  {
   "cell_type": "code",
   "execution_count": 5,
   "metadata": {},
   "outputs": [],
   "source": [
    "def f11 (x:float, y:float, y1:float) -> float:\n",
    "    return 4 * y1 * (x**2 + 3) / (x * (x**2 + 6)) - 6 * y /(x**2 + 6) \n",
    "\n",
    "def frange(start:float, stop:float, step:float) -> float:\n",
    "    while start < stop:\n",
    "        yield start\n",
    "        start += step\n",
    "\n",
    "def runge_knutta_4(x:float, x_end:float, y0:float, z0:float, f:typing.Callable[[float, float, float], float], h:float) -> (list, list):\n",
    "    X = [x] + [x + h for x in frange(x, x_end, h)]\n",
    "    n = len(X)\n",
    "    Y = [y0] + [0 for _ in range(n-1)]\n",
    "    Z = [z0] + [0 for _ in range(n-1)]\n",
    "    for i, xx in enumerate(frange(x, x_end, h)):\n",
    "        K1 = h * Z[i]\n",
    "        L1 = h * f(xx, Y[i], Z[i])\n",
    "        K2 = h * (Z[i] + L1 / 2)\n",
    "        L2 = h * f(xx + h / 2, Y[i] + K1 / 2, Z[i] + L1 / 2)\n",
    "        K3 = h * (Z[i] + L2/2) \n",
    "        L3 = h * f(xx + h / 2, Y[i] +  K2 / 2, Z[i] + L2 / 2)\n",
    "        K4 = h * (Z[i] + L3)\n",
    "        L4 = h * f(xx + h, Y[i] +  K3, Z[i] + L3)\n",
    "\n",
    "        delta_y =  (K1 + 2* K2 + 2 * K3 + K4) / 6\n",
    "        delta_z =  (L1 + 2* L2 + 2 * L3 + L4) / 6\n",
    "        Y[i+1] = Y[i] + delta_y\n",
    "        Z[i+1] = Z[i] + delta_z\n",
    "    return Z, Y, X\n",
    "\n"
   ]
  },
  {
   "cell_type": "markdown",
   "metadata": {},
   "source": [
    "Метод стрельбы"
   ]
  },
  {
   "cell_type": "code",
   "execution_count": 6,
   "metadata": {},
   "outputs": [],
   "source": [
    "def get_Z(etta:float, ya:float, alpha:float, betta:float) -> float:\n",
    "    return (ya - alpha * etta) / betta\n",
    "\n",
    "def get_eta_next(etta1:float, etta2:float, delta:float, gamma:float, yn:float, res1:list, res2:list) -> (float, float):\n",
    "    yb_1 = res1[0][-1]\n",
    "    zb_1 = res1[1][-1]\n",
    "    phi_1 = delta * yb_1 + gamma * zb_1 - yn\n",
    "    yb = res2[0][-1]\n",
    "    zb = res2[1][-1]\n",
    "    phi_2 = delta * yb + gamma * zb - yn\n",
    "    return phi_2, etta2 - (etta2 - etta1) / (phi_2 - phi_1) * phi_2\n",
    "\n",
    "def shooting_method(a:float, b:float, h:float, alpha:float, betta:float, ya:float, delta:float, gamma:float, yn:float, etta1:float, eps=1e-4) -> (list, list, list):\n",
    "\n",
    "    phi = eps*100\n",
    "    etta2 = etta1 + eps*100\n",
    "    while abs(phi) > eps:\n",
    "        res1 = runge_knutta_4(a+eps, b, etta1, get_Z(etta1, ya, alpha, betta), f11, h)\n",
    "        res2 = runge_knutta_4(a+eps, b, etta2, get_Z(etta2, ya, alpha, betta), f11, h)\n",
    "\n",
    "        etta1, etta2 = etta2, get_eta_next(etta1, etta2, delta, gamma, yn, res1, res2)\n",
    "        phi = etta2[0]\n",
    "        etta2 = etta2[1]\n",
    "    return runge_knutta_4(a+eps, b, -etta2, get_Z(-etta2, ya, alpha, betta), f11, h)"
   ]
  },
  {
   "cell_type": "markdown",
   "metadata": {},
   "source": [
    "Входные данные"
   ]
  },
  {
   "cell_type": "code",
   "execution_count": 7,
   "metadata": {},
   "outputs": [],
   "source": [
    "xa, xb = 0, 4\n",
    "n = 20\n",
    "h = (xb - xa) / n\n",
    "alpha = 0\n",
    "betta = 1\n",
    "delta = 1\n",
    "gamma = -1\n",
    "ya = etta = 0\n",
    "yn = 26\n",
    "eps = 1e-4"
   ]
  },
  {
   "cell_type": "code",
   "execution_count": 8,
   "metadata": {},
   "outputs": [],
   "source": [
    "_, shooter, X_shoot = shooting_method(xa, xb, h, alpha, betta, ya, delta, gamma, yn, etta, eps)"
   ]
  },
  {
   "cell_type": "code",
   "execution_count": 9,
   "metadata": {},
   "outputs": [
    {
     "data": {
      "image/png": "[encoded data removed]",
      "text/plain": [
       "<Figure size 640x480 with 1 Axes>"
      ]
     },
     "metadata": {},
     "output_type": "display_data"
    }
   ],
   "source": [
    "plt.plot(X_shoot, shooter)\n",
    "plt.plot(X_shoot, [f_accurate(xx) for xx in X_shoot])\n",
    "plt.show()"
   ]
  },
  {
   "cell_type": "markdown",
   "metadata": {},
   "source": [
    "Оценка методов"
   ]
  },
  {
   "cell_type": "markdown",
   "metadata": {},
   "source": [
    "Ошибка методом Рунге Ромберта Ричардсона"
   ]
  },
  {
   "cell_type": "code",
   "execution_count": 10,
   "metadata": {},
   "outputs": [
    {
     "name": "stdout",
     "output_type": "stream",
     "text": [
      "Runge Rombert Error Shooting 0.016987586018830055\n"
     ]
    }
   ],
   "source": [
    "print('Runge Rombert Error Shooting', mse(shooter, [runge_rombert(f, ff, h / (h/10), 4) for f, ff in zip(shooter, shooting_method(xa, xb, h/10, alpha, betta, ya, delta, gamma, yn, etta, eps)[1][0::5])]))"
   ]
  },
  {
   "cell_type": "markdown",
   "metadata": {},
   "source": [
    "Ошибка в сравнении с точным значением"
   ]
  },
  {
   "cell_type": "code",
   "execution_count": 11,
   "metadata": {},
   "outputs": [
    {
     "name": "stdout",
     "output_type": "stream",
     "text": [
      "Error Shooting 38.59139747945065\n"
     ]
    }
   ],
   "source": [
    "print('Error Shooting', mse(shooter, [f_accurate(xx) for xx in X_shoot]))"
   ]
  },
  {
   "cell_type": "markdown",
   "metadata": {},
   "source": [
    "Конечно разностный метод"
   ]
  },
  {
   "cell_type": "markdown",
   "metadata": {},
   "source": [
    "$$ x(x^2 + 6)y'' - 4(x^2 + 3)y' +6xy = 0$$\n",
    "$$y'' = \\frac{4y'(x^2 + 3)}{x(x^2 + 6)} - \\frac{6y}{x^2 + 6}$$\n",
    "\n",
    "$$ y'' + p(x)y' + q(x)y = f(x)$$\n",
    "$$ y'' -   \\frac{4y'(x^2 + 3)}{x(x^2 + 6)} + \\frac{6y}{x^2 + 6} = 0$$"
   ]
  },
  {
   "cell_type": "markdown",
   "metadata": {},
   "source": [
    "$$\n",
    "\\begin{cases}\n",
    "y_0 = y_a \\\\\n",
    "\\dots \\\\ \n",
    "\\frac{y_{k+1} - 2y_{k} + y_{k-1}}{h^2} + p(x_k) \\frac{y_{k+1} - y_{k-1}}{2h} + q(x_k) y_k = f(x_k) \\\\\n",
    "\\dots \\\\ \n",
    "y_n = y_b\n",
    "\\end{cases}\\\n",
    "$$"
   ]
  },
  {
   "cell_type": "markdown",
   "metadata": {},
   "source": [
    "Приводя подобные и учитывая, что при задании граничных условий первого рода две неизвестные $y_0$ , $y_N$ уже фактически определены, получим СЛАУ с тридиагональной матрицей"
   ]
  },
  {
   "cell_type": "markdown",
   "metadata": {},
   "source": [
    "$$\n",
    "\\begin{cases}\n",
    "(-2 + h^2 q(x_1))y_1 + (1 + \\frac{p(x_1)h}{2})y_2 = h^2 f(x_1) -   (1 - \\frac{p(x_1)h}{2})y_a\\\\\n",
    "\\dots \\\\ \n",
    "(1 - \\frac{p(x_k)h}{2})y_{k-1} + (-2 + h^2 q(x_k))y_k +  (1 + \\frac{p(x_k)h}{2})y_{k+1} = h^2 f(x_k)\\\\\n",
    "\\dots \\\\ \n",
    "(1 - \\frac{p(x_{N-1})h}{2})y_{N-1} + (-2 + h^2 q(x_{N-1}))y_{N-1} =  h^2 f(x_{N-1}) - (1 + \\frac{p(x_{N-1})h}{2})y_{b} \n",
    "\\end{cases}\\\n",
    "$$"
   ]
  },
  {
   "cell_type": "code",
   "execution_count": 12,
   "metadata": {},
   "outputs": [],
   "source": [
    "def p_func(x:float) -> float:\n",
    "    return -4 * (x**2 + 3) / (x * (x**2 + 6))\n",
    "\n",
    "def q_func(x:float) -> float:\n",
    "    return 6 / (x**2 + 6)\n",
    "\n",
    "def f(x:float) -> float:\n",
    "    return 0\n",
    "\n",
    "\n",
    "def inner_left(x:float, h:float) -> float:\n",
    "    return (1 - p_func(x) * h / 2)\n",
    "\n",
    "def inner_mid(x:float, h:float) -> float:\n",
    "    return (-2 + h**2 * q_func(x))\n",
    "\n",
    "def inner_right(x:float, h:float) -> float:\n",
    "    return (1 + p_func(x) * h / 2)\n",
    "\n",
    "def eq_sign_f(x:float, h:float) -> float:\n",
    "    return f(x) * h ** 2\n",
    "\n",
    "\n",
    "\n",
    "def solve_PQ(A0:list, A1:list, A2:list, B:list) -> list:\n",
    "    P = [-A2[0] / A1[0]]\n",
    "    Q = [B[0] / A1[0]]\n",
    "    for i in range(1, len(B)):\n",
    "        P.append(-A2[i] / (A1[i] + A0[i] * P[i - 1]))\n",
    "        Q.append((B[i] - A0[i] * Q[i - 1]) / (A1[i] + A0[i] * P[i - 1]))\n",
    "\n",
    "    res = [Q[-1]]\n",
    "\n",
    "    for i in range(len(B) - 2, -1, -1):\n",
    "        res.append(P[i] * res[-1] + Q[i])\n",
    "\n",
    "    return res[::-1]\n",
    "\n",
    "def finite_difference (xa:float, xb:float, h:float, ya:float, yb:float, alpha:float, betta:float, gamma:float, delta:float) -> (list, list):\n",
    "    X = [round(x, 6) for x in frange(xa, xb+h, h)]\n",
    "    A0 = [0] + [inner_left(x, h) for x in X[1:-1]] + [-gamma]\n",
    "    A1 = [h * alpha - betta] + [inner_mid(x, h) for x in X[1:-1]] + [h * delta + gamma] \n",
    "    A2 = [betta] + [inner_right(x, h) for x in X[1:-1]] + [0]\n",
    "    B = [ya * h] + [eq_sign_f(x, h) for x in X[1:-1]] + [yb * h]\n",
    "    return X, solve_PQ(A0, A1, A2, B)"
   ]
  },
  {
   "cell_type": "markdown",
   "metadata": {},
   "source": [
    "Входные данные"
   ]
  },
  {
   "cell_type": "code",
   "execution_count": 13,
   "metadata": {},
   "outputs": [],
   "source": [
    "xa, xb = 0, 4\n",
    "n = 20\n",
    "h = (xb - xa) / n\n",
    "alpha = 0\n",
    "betta = 1\n",
    "delta = 1\n",
    "gamma = -1\n",
    "ya = 0\n",
    "yb = 26"
   ]
  },
  {
   "cell_type": "markdown",
   "metadata": {},
   "source": [
    "Результат"
   ]
  },
  {
   "cell_type": "code",
   "execution_count": 14,
   "metadata": {},
   "outputs": [],
   "source": [
    "X, res_finite = finite_difference(xa, xb, h, ya, yb, alpha, betta, gamma, delta)"
   ]
  },
  {
   "cell_type": "code",
   "execution_count": 15,
   "metadata": {},
   "outputs": [
    {
     "data": {
      "image/png": "[encoded data removed]",
      "text/plain": [
       "<Figure size 640x480 with 1 Axes>"
      ]
     },
     "metadata": {},
     "output_type": "display_data"
    }
   ],
   "source": [
    "plt.plot(X, res_finite)\n",
    "plt.plot(X, [f_accurate(xx) for xx in X])\n",
    "plt.show()"
   ]
  },
  {
   "cell_type": "markdown",
   "metadata": {},
   "source": [
    "Ошибка методом Рунге Ромберта Ричардсона"
   ]
  },
  {
   "cell_type": "code",
   "execution_count": 16,
   "metadata": {},
   "outputs": [
    {
     "name": "stdout",
     "output_type": "stream",
     "text": [
      "Runge Rombert Error Finite difference 0.014460215242703222\n"
     ]
    }
   ],
   "source": [
    "print('Runge Rombert Error Finite difference', mse(res_finite, [runge_rombert(f, ff, h / (h/10), 4) for f, ff in zip(res_finite, finite_difference(xa, xb, h/10, ya, yb, alpha, betta, gamma, delta)[1][0::5])]))"
   ]
  },
  {
   "cell_type": "markdown",
   "metadata": {},
   "source": [
    "Ошибка в сравнении с точным значением"
   ]
  },
  {
   "cell_type": "code",
   "execution_count": 17,
   "metadata": {},
   "outputs": [
    {
     "name": "stdout",
     "output_type": "stream",
     "text": [
      "Error Finite difference 16.300271391037754\n"
     ]
    }
   ],
   "source": [
    "print('Error Finite difference', mse(res_finite, [f_accurate(xx) for xx in X]))"
   ]
  }
 ],
 "metadata": {
  "kernelspec": {
   "display_name": "base",
   "language": "python",
   "name": "python3"
  },
  "language_info": {
   "codemirror_mode": {
    "name": "ipython",
    "version": 3
   },
   "file_extension": ".py",
   "mimetype": "text/x-python",
   "name": "python",
   "nbconvert_exporter": "python",
   "pygments_lexer": "ipython3",
   "version": "3.8.18"
  },
  "orig_nbformat": 4
 },
 "nbformat": 4,
 "nbformat_minor": 2
}
