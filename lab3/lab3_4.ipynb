{
 "cells": [
  {
   "attachments": {},
   "cell_type": "markdown",
   "metadata": {},
   "source": [
    "3.4. Вычислить первую и вторую производную от таблично заданной функции F(x) в точке x = X*.  "
   ]
  },
  {
   "attachments": {},
   "cell_type": "markdown",
   "metadata": {},
   "source": [
    "X* = 2.0 \n",
    "\n",
    "|    |    |    |    |    |    |\n",
    "|--- |--- | ---| ---| ---| ---|\n",
    "|X   |1   | 1.5|2   |2.5 | 3  |\n",
    "|F(X)   |2   |2.1667| 2.5 |2.9 |3.3333|"
   ]
  },
  {
   "cell_type": "code",
   "execution_count": 10,
   "metadata": {},
   "outputs": [],
   "source": [
    "X = [1, 1.5, 2, 2.5, 3]\n",
    "F = [2, 2.1667, 2.5, 2.9, 3.3333]\n",
    "x_point = 2."
   ]
  },
  {
   "cell_type": "code",
   "execution_count": 11,
   "metadata": {},
   "outputs": [
    {
     "data": {
      "image/png": "[encoded data removed]",
      "text/plain": [
       "<Figure size 640x480 with 1 Axes>"
      ]
     },
     "metadata": {},
     "output_type": "display_data"
    }
   ],
   "source": [
    "import matplotlib.pyplot as plt\n",
    "\n",
    "plt.plot(X, F)\n",
    "plt.axis('equal')\n",
    "plt.show()"
   ]
  },
  {
   "cell_type": "code",
   "execution_count": 12,
   "metadata": {},
   "outputs": [
    {
     "data": {
      "text/plain": [
       "'  x lies between  x0 and x1 '"
      ]
     },
     "execution_count": 12,
     "metadata": {},
     "output_type": "execute_result"
    }
   ],
   "source": [
    "def y1w(x1, x2, f1, f2):\n",
    "    return (f2 - f1) / (x2 - x1)\n",
    "def y1s(x1, x2, x3, f1, f2, f3, x_between):\n",
    "    return (f2 - f1) / (x2 - x1) + ( ((f3 -  f2) / (x3- x2) - \n",
    "                                      (f2 - f1) / (x2 - x1)) \n",
    "                                    / (x3 - x1)) * (2 * x_between - x1 - x2) \n",
    "'''  x lies between  x1 and x2 '''\n",
    "\n",
    "def y11(x0, x1, x2, y0, y1, y2):\n",
    "    return 2 * ((y2 - y1) / (x2 -x1) - (y1 - y0) / (x1 - x0)) /(x2 - x0)\n",
    "'''  x lies between  x0 and x1 '''\n"
   ]
  },
  {
   "cell_type": "code",
   "execution_count": 13,
   "metadata": {},
   "outputs": [],
   "source": [
    "def beetween_r(X, x_point):\n",
    "    for i in range(len(X)):\n",
    "        if x_point < X[i]:\n",
    "            return i - 1, i\n",
    "def beetween_l(X, x_point):\n",
    "    for i in range(len(X)):\n",
    "        if x_point <= X[i]:\n",
    "            return i - 1, i"
   ]
  },
  {
   "cell_type": "code",
   "execution_count": 14,
   "metadata": {},
   "outputs": [],
   "source": [
    "def weak_get_dx(a, b, X, F, y1w):\n",
    "    try:\n",
    "        return y1w(X[a], X[b], F[a], F[b])\n",
    "    except IndexError:\n",
    "        print('We re out of range, index:' + str(a, b))\n",
    "\n",
    "def stronger_get_dx(a, b, X, F, y1s, x_point):\n",
    "    try:\n",
    "        return y1s(X[a], X[b], X[b+1], F[a], F[b], F[b+1], x_point)\n",
    "    except IndexError:\n",
    "        print('We re out of range, index' + str(a, b))\n",
    "        return\n",
    "    \n",
    "def dx2(a, b, X, F, y11):\n",
    "    try:\n",
    "        return y11(X[a], X[b], X[b+1], F[a], F[b], F[b+1])\n",
    "    except IndexError:\n",
    "        print('We re out of range, index' + str(a, b))\n",
    "        return\n"
   ]
  },
  {
   "cell_type": "code",
   "execution_count": 15,
   "metadata": {},
   "outputs": [],
   "source": [
    "def get_values(x_point, X, F, y1w, y1s, y11, beetween):\n",
    "    a, b = beetween(X, x_point)\n",
    "    print(\"Отрезок [\",a, b, \"]\")\n",
    "    print('Первая производная с меньшей точностью', weak_get_dx(a, b, X, F, y1w))\n",
    "    print('Первая производная с большей точностью',stronger_get_dx(a, b, X, F, y1s, x_point))\n",
    "    print('Вторая производная ',dx2(a, b, X, F, y11))\n",
    "\n",
    "    return "
   ]
  },
  {
   "cell_type": "code",
   "execution_count": 16,
   "metadata": {},
   "outputs": [
    {
     "name": "stdout",
     "output_type": "stream",
     "text": [
      "Отрезок [ 1 2 ]\n",
      "Первая производная с меньшей точностью 0.6665999999999999\n",
      "Первая производная с большей точностью 0.7332999999999998\n",
      "Вторая производная  0.2667999999999999\n"
     ]
    }
   ],
   "source": [
    "get_values(x_point, X, F, y1w, y1s, y11, beetween_l)"
   ]
  },
  {
   "cell_type": "code",
   "execution_count": 17,
   "metadata": {},
   "outputs": [
    {
     "name": "stdout",
     "output_type": "stream",
     "text": [
      "Отрезок [ 2 3 ]\n",
      "Первая производная с меньшей точностью 0.7999999999999998\n",
      "Первая производная с большей точностью 0.7666999999999997\n",
      "Вторая производная  0.13320000000000043\n"
     ]
    }
   ],
   "source": [
    "get_values(x_point, X, F, y1w, y1s, y11, beetween_r)"
   ]
  }
 ],
 "metadata": {
  "kernelspec": {
   "display_name": "base",
   "language": "python",
   "name": "python3"
  },
  "language_info": {
   "codemirror_mode": {
    "name": "ipython",
    "version": 3
   },
   "file_extension": ".py",
   "mimetype": "text/x-python",
   "name": "python",
   "nbconvert_exporter": "python",
   "pygments_lexer": "ipython3",
   "version": "3.9.13"
  },
  "orig_nbformat": 4
 },
 "nbformat": 4,
 "nbformat_minor": 2
}
