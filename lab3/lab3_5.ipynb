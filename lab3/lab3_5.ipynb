{
 "cells": [
  {
   "attachments": {},
   "cell_type": "markdown",
   "metadata": {},
   "source": [
    "Вычислить определенный интеграл  $F = \\int_a^b y(x) \\,dx$, методами прямоугольников, трапеций, Симпсона с шагами $h_1, h_2$. Оценить погрешность вычислений, используя  Ме­тод Рунге-Ромберга: "
   ]
  },
  {
   "attachments": {},
   "cell_type": "markdown",
   "metadata": {},
   "source": [
    "Вариант 23 $y = \\frac{1}{(2x + 7)(3x + 5)}$   $X_0 = 0, X_1 = 4, h_1 = 1, h_2 = 0.5$"
   ]
  },
  {
   "cell_type": "code",
   "execution_count": 21,
   "metadata": {},
   "outputs": [],
   "source": [
    "import typing"
   ]
  },
  {
   "cell_type": "code",
   "execution_count": 22,
   "metadata": {},
   "outputs": [],
   "source": [
    "def f(x:float) -> float:\n",
    "    return 1/((2*x + 7) * (3*x + 5))\n",
    "x_0, x_1 = 0, 4\n",
    "h0, h1 = 1, 0.5"
   ]
  },
  {
   "cell_type": "code",
   "execution_count": 23,
   "metadata": {},
   "outputs": [],
   "source": [
    "def frange(start:float, stop:float, step:float) -> float:\n",
    "    while start < stop:\n",
    "        yield start\n",
    "        start += step"
   ]
  },
  {
   "cell_type": "code",
   "execution_count": 24,
   "metadata": {},
   "outputs": [],
   "source": [
    "X0 = [i for i in frange(x_0, x_1, h0)]\n",
    "X1 = [i for i in frange(x_0, x_1, h1)]"
   ]
  },
  {
   "cell_type": "code",
   "execution_count": 25,
   "metadata": {},
   "outputs": [
    {
     "data": {
      "image/png": "[encoded data removed]",
      "text/plain": [
       "<Figure size 640x480 with 1 Axes>"
      ]
     },
     "metadata": {},
     "output_type": "display_data"
    }
   ],
   "source": [
    "import matplotlib.pyplot as plt\n",
    "plt.plot(X0, [f(x) for x in X0], linestyle='--')\n",
    "plt.scatter(X0, [f(x) for x in X0])\n",
    "plt.plot(X1, [f(x) for x in X1], linestyle='--')\n",
    "plt.scatter(X1, [f(x) for x in X1])\n",
    "plt.show()"
   ]
  },
  {
   "cell_type": "code",
   "execution_count": 26,
   "metadata": {},
   "outputs": [],
   "source": [
    "def diff(X:list) -> list:\n",
    "    diff_X = [0]\n",
    "    for i in range(1, len(X)):\n",
    "        diff_X.append(X[i] - X[i - 1])\n",
    "    return diff_X\n"
   ]
  },
  {
   "attachments": {},
   "cell_type": "markdown",
   "metadata": {},
   "source": [
    "### Оценка погрешности вычислений мотодом Рунге-Ромберга-Ричардсона"
   ]
  },
  {
   "attachments": {},
   "cell_type": "markdown",
   "metadata": {},
   "source": [
    "Порядок точности для Методов прямоугольника и трапеции, и Симпсона соответсвено "
   ]
  },
  {
   "cell_type": "code",
   "execution_count": 27,
   "metadata": {},
   "outputs": [],
   "source": [
    "p_r_t, p_s = 2, 4"
   ]
  },
  {
   "cell_type": "code",
   "execution_count": 28,
   "metadata": {},
   "outputs": [],
   "source": [
    "def runge_rombert(Fh:float, Fkh:float, k:float, p:float) -> float:\n",
    "    return Fh + ((Fh - Fkh) / (k**p - 1))"
   ]
  },
  {
   "attachments": {},
   "cell_type": "markdown",
   "metadata": {},
   "source": [
    "### Метод прямоугольников"
   ]
  },
  {
   "cell_type": "code",
   "execution_count": 29,
   "metadata": {},
   "outputs": [],
   "source": [
    "def rectangle(X:list, f:typing.Callable[[float], float], h:float):\n",
    "    return sum([h * f((X[i-1] + X[i])/2) for i in range(1, len(X))])\n"
   ]
  },
  {
   "cell_type": "code",
   "execution_count": 30,
   "metadata": {},
   "outputs": [
    {
     "name": "stdout",
     "output_type": "stream",
     "text": [
      "0.03642375168690958\n",
      "0.03959872250672447\n"
     ]
    }
   ],
   "source": [
    "r0, r1 = rectangle(X0, f, h0), rectangle(X1, f, h1)\n",
    "\n",
    "print(r0)\n",
    "print(r1)"
   ]
  },
  {
   "attachments": {},
   "cell_type": "markdown",
   "metadata": {},
   "source": [
    "Уточнение"
   ]
  },
  {
   "cell_type": "code",
   "execution_count": 31,
   "metadata": {},
   "outputs": [
    {
     "name": "stdout",
     "output_type": "stream",
     "text": [
      "0.04065704611332943\n"
     ]
    }
   ],
   "source": [
    "r = runge_rombert(r0, r1, h1 - h0, p_r_t)\n",
    "print(r)"
   ]
  },
  {
   "attachments": {},
   "cell_type": "markdown",
   "metadata": {},
   "source": [
    "Ошибка"
   ]
  },
  {
   "cell_type": "code",
   "execution_count": 32,
   "metadata": {},
   "outputs": [
    {
     "name": "stdout",
     "output_type": "stream",
     "text": [
      "0.004233294426419849\n",
      "0.0010583236066049606\n"
     ]
    }
   ],
   "source": [
    "print(abs(r - r0))\n",
    "print(abs(r - r1))"
   ]
  },
  {
   "attachments": {},
   "cell_type": "markdown",
   "metadata": {},
   "source": [
    "### Метод трапеций"
   ]
  },
  {
   "cell_type": "code",
   "execution_count": 33,
   "metadata": {},
   "outputs": [],
   "source": [
    "def trapezoid(X:list, f:typing.Callable[[float], float], h:float) -> float:\n",
    "    return 1/2 * h * (sum([(f(X[i]) + f(X[i - 1])) for i in range(1, len(X))]))"
   ]
  },
  {
   "cell_type": "code",
   "execution_count": 34,
   "metadata": {},
   "outputs": [
    {
     "name": "stdout",
     "output_type": "stream",
     "text": [
      "0.03918631873177328\n",
      "0.04033073531568669\n"
     ]
    }
   ],
   "source": [
    "t0, t1 = trapezoid(X0, f, h0), trapezoid(X1, f, h1)\n",
    "\n",
    "print(t0)\n",
    "print(t1)"
   ]
  },
  {
   "attachments": {},
   "cell_type": "markdown",
   "metadata": {},
   "source": [
    "Уточнение"
   ]
  },
  {
   "cell_type": "code",
   "execution_count": 35,
   "metadata": {},
   "outputs": [],
   "source": [
    "r = runge_rombert(t0, t1, h1 - h0, p_r_t)"
   ]
  },
  {
   "attachments": {},
   "cell_type": "markdown",
   "metadata": {},
   "source": [
    "Ошибка"
   ]
  },
  {
   "cell_type": "code",
   "execution_count": 36,
   "metadata": {},
   "outputs": [
    {
     "name": "stdout",
     "output_type": "stream",
     "text": [
      "0.0015258887785512196\n",
      "0.00038147219463780663\n"
     ]
    }
   ],
   "source": [
    "print(abs(r - t0))\n",
    "print(abs(r - t1))"
   ]
  },
  {
   "attachments": {},
   "cell_type": "markdown",
   "metadata": {},
   "source": [
    "### Метод Симпсона с шагами $h_1, h_2$"
   ]
  },
  {
   "cell_type": "code",
   "execution_count": 37,
   "metadata": {},
   "outputs": [],
   "source": [
    "def simpson(X:list, f:typing.Callable[[float], float], step:float):\n",
    "    return step/3 * (sum([f(X[i - 1]) + 4 * f((X[i-1] + X[i])/2) + f(X[i]) for i in range(1, len(X), 2)]))"
   ]
  },
  {
   "cell_type": "code",
   "execution_count": 38,
   "metadata": {},
   "outputs": [
    {
     "name": "stdout",
     "output_type": "stream",
     "text": [
      "0.053269676451494635\n",
      "0.0479692268306646\n"
     ]
    }
   ],
   "source": [
    "s0, s1 = simpson(X0, f, h0), simpson(X1, f, h1)\n",
    "print(s0)\n",
    "print(s1)"
   ]
  },
  {
   "attachments": {},
   "cell_type": "markdown",
   "metadata": {},
   "source": [
    "Уточнение"
   ]
  },
  {
   "cell_type": "code",
   "execution_count": 39,
   "metadata": {},
   "outputs": [],
   "source": [
    "r = runge_rombert(s0, s1, h1 - h0, p_s)"
   ]
  },
  {
   "cell_type": "markdown",
   "metadata": {},
   "source": [
    "Ошибка"
   ]
  },
  {
   "cell_type": "code",
   "execution_count": 40,
   "metadata": {},
   "outputs": [
    {
     "name": "stdout",
     "output_type": "stream",
     "text": [
      "0.005653812928885366\n",
      "0.0003533633080553336\n"
     ]
    }
   ],
   "source": [
    "print(abs(r - s0))\n",
    "print(abs(r - s1))"
   ]
  }
 ],
 "metadata": {
  "kernelspec": {
   "display_name": "base",
   "language": "python",
   "name": "python3"
  },
  "language_info": {
   "codemirror_mode": {
    "name": "ipython",
    "version": 3
   },
   "file_extension": ".py",
   "mimetype": "text/x-python",
   "name": "python",
   "nbconvert_exporter": "python",
   "pygments_lexer": "ipython3",
   "version": "3.8.18"
  },
  "orig_nbformat": 4
 },
 "nbformat": 4,
 "nbformat_minor": 2
}
