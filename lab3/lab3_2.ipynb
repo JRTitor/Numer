{
 "cells": [
  {
   "attachments": {},
   "cell_type": "markdown",
   "metadata": {},
   "source": [
    "3.2. Построить кубический сплайн для функции, заданной в узлах интерполяции, предполагая, что сплайн имеет нулевую кривизну при $x = x_0$ иx $x = x_4$ . Вычислить значение функции в точке $x = X^*$.\n",
    "\n",
    "вариант 23\n",
    "\n",
    "$X^* = 0,8$\n",
    "\n",
    "|       | 0          | 1          | 2          | 3          | 4          |\n",
    "| ----- | ---------- | ---------- | ---------- | ---------- | ---------- |\n",
    "| i     | 0          | 1          | 2          | 3          | 4          |\n",
    "| X_i   | 0.1        | 0.5        | 0.9        | 1.3        | 1.7        |\n",
    "| f_i   | 10.0       | 2.0        | 1.1111     | 0.76923    | 0.58824    |\n"
   ]
  },
  {
   "cell_type": "markdown",
   "metadata": {},
   "source": [
    "$$ S(x) = \\sum_{k = 0}^{n} a_{ik} x^k,   x_{i-1} \\leq x \\leq x_{i+1}$$\n",
    "\n",
    "$$ S(x) = a_i + b_i(x-x_{i - 1}) + c_i(x - x_{i - 1})^2 + d_i(x - x_{i - 1})^3"
   ]
  },
  {
   "cell_type": "code",
   "execution_count": 8,
   "metadata": {},
   "outputs": [],
   "source": [
    "import typing"
   ]
  },
  {
   "cell_type": "code",
   "execution_count": 9,
   "metadata": {},
   "outputs": [],
   "source": [
    "i_arr = [0, 1, 2, 3, 4]\n",
    "X = [0.1, 0.5, 0.9, 1.3, 1.7]\n",
    "F = [10.0, 2.0, 1.1111, 0.76923, 0.58824]\n",
    "x_point = 0.8"
   ]
  },
  {
   "cell_type": "code",
   "execution_count": 10,
   "metadata": {},
   "outputs": [],
   "source": [
    "def left_c(h:list)->list:\n",
    "    n = len(h) - 2\n",
    "    A = [[0] * n for i in range(n)]\n",
    "\n",
    "    for i in range(n-1):\n",
    "        A[i][i] = 2 * (h[i+2] + h[i+1])\n",
    "        A[i+1][i] = h[i+1]     \n",
    "        A[i][i+1] = h[i+2] \n",
    "\n",
    "    A[n-1][n-1] = 2 * (h[n] + h[n-1])\n",
    "\n",
    "    return A\n",
    "\n",
    "def right_c(h:list, F:list)-> list:\n",
    "    b = []\n",
    "    n = 3\n",
    "    for i in range(n):\n",
    "        b.append(3 * (((F[i+2] - F[i+1]) / h[i+2]) - ((F[i+1] - F[i]) / h[i+1])))\n",
    "    return b\n",
    "\n",
    "def tridiagonal(A:list, B:list) -> list:\n",
    "    n = len(A)\n",
    "    c = [0] * n\n",
    "    B_prime = [0] * n\n",
    "\n",
    "    c[0] = A[0][1] / A[0][0]\n",
    "    B_prime[0] = B[0] / A[0][0]\n",
    "\n",
    "    for i in range(1, n-1):\n",
    "        c[i] = A[i][i+1] / (A[i][i] - A[i][i-1] * c[i-1])\n",
    "        B_prime[i] = (B[i] - A[i][i-1] * B_prime[i-1]) / (A[i][i] - A[i][i-1] * c[i-1])\n",
    "\n",
    "    B_prime[n-1] = (B[n-1] - A[n-1][n-2] * B_prime[n-2]) / (A[n-1][n-1] - A[n-1][n-2] * c[n-2])\n",
    "\n",
    "    x = [0] * n\n",
    "    x[n-1] = B_prime[n-1]\n",
    "\n",
    "    for i in range(n-2, -1, -1):\n",
    "        x[i] = B_prime[i] - c[i] * x[i+1]\n",
    "\n",
    "    return x"
   ]
  },
  {
   "cell_type": "code",
   "execution_count": 11,
   "metadata": {},
   "outputs": [],
   "source": [
    "def diff(X:list) -> list:\n",
    "    diff_X = [0]\n",
    "    for i in range(1, len(X)):\n",
    "        diff_X.append(X[i] - X[i - 1])\n",
    "    return diff_X\n",
    "\n",
    "\n",
    "def searchsorted(X:list,x:float) -> int:\n",
    "    for i in range(len(X)):\n",
    "        if i  >  0:\n",
    "            if X[i - 1] < x and x <= X[i]:\n",
    "                return i\n",
    "            if i == 0 and x <= X[i]:\n",
    "                return 0\n",
    "    return len(X)\n",
    "        \n",
    "def get_C(h:list ,F:list) -> list:\n",
    "    left = left_c(h)\n",
    "    right = right_c(h, F)\n",
    "    return [0] + tridiagonal(left, right) + [0]\n",
    "\n",
    "def cubic_spline_interpolation(x:float, X:list, F:list) -> float:\n",
    "    if x == X[0]:\n",
    "        return F[0]\n",
    "    n = len(X)\n",
    "    a = F.copy()\n",
    "    h = diff(X)\n",
    "    c = get_C(h, F)\n",
    "    b = [0] * n\n",
    "    d = [0] * n\n",
    "    for i in range(n - 1):\n",
    "        b[i] = (a[i + 1] - a[i]) / h[i+1] - h[i+1] * (c[i + 1] + 2 * c[i]) / 3\n",
    "        d[i] = (c[i + 1] - c[i]) / (3 * h[i+1])\n",
    "    \n",
    "    i = searchsorted(X, x) - 1\n",
    "    \n",
    "    dx = x - X[i]\n",
    "    return a[i] + b[i] * dx + c[i] * dx ** 2 + d[i] * dx ** 3\n"
   ]
  },
  {
   "cell_type": "markdown",
   "metadata": {},
   "source": [
    "Значение в указанной точке"
   ]
  },
  {
   "cell_type": "code",
   "execution_count": 12,
   "metadata": {},
   "outputs": [
    {
     "name": "stdout",
     "output_type": "stream",
     "text": [
      "1.0145346372767863\n"
     ]
    }
   ],
   "source": [
    "f_interp = cubic_spline_interpolation(x_point, X, F)\n",
    "\n",
    "print(f_interp)\n"
   ]
  },
  {
   "cell_type": "markdown",
   "metadata": {},
   "source": [
    "График кубичекого сплайна"
   ]
  },
  {
   "cell_type": "code",
   "execution_count": 13,
   "metadata": {},
   "outputs": [
    {
     "data": {
      "image/png": "[encoded data removed]",
      "text/plain": [
       "<Figure size 640x480 with 1 Axes>"
      ]
     },
     "metadata": {},
     "output_type": "display_data"
    }
   ],
   "source": [
    "import matplotlib.pyplot as plt\n",
    "import numpy as np \n",
    "XX = np.linspace(X[0], X[-1], 100)\n",
    "plt.scatter(X, F)\n",
    "plt.plot(XX, [cubic_spline_interpolation(x, X, F) for x in XX], color='red')\n",
    "plt.show()"
   ]
  },
  {
   "cell_type": "code",
   "execution_count": 14,
   "metadata": {},
   "outputs": [
    {
     "data": {
      "image/png": "[encoded data removed]",
      "text/plain": [
       "<Figure size 640x480 with 1 Axes>"
      ]
     },
     "metadata": {},
     "output_type": "display_data"
    }
   ],
   "source": [
    "XX = np.linspace(X[0], X[-1], 100)\n",
    "plt.scatter(X, F)\n",
    "plt.plot(XX, [cubic_spline_interpolation(x, X, F) for x in XX], color='red')\n",
    "plt.axis('equal')\n",
    "plt.show()\n"
   ]
  }
 ],
 "metadata": {
  "kernelspec": {
   "display_name": "base",
   "language": "python",
   "name": "python3"
  },
  "language_info": {
   "codemirror_mode": {
    "name": "ipython",
    "version": 3
   },
   "file_extension": ".py",
   "mimetype": "text/x-python",
   "name": "python",
   "nbconvert_exporter": "python",
   "pygments_lexer": "ipython3",
   "version": "3.8.18"
  },
  "orig_nbformat": 4
 },
 "nbformat": 4,
 "nbformat_minor": 2
}
