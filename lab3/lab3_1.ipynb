{
 "cells": [
  {
   "attachments": {},
   "cell_type": "markdown",
   "metadata": {},
   "source": [
    "Вариант 23\n",
    "3.1. Используя таблицу значений $Y_i$  функции $y = f(x)$, вычисленных в точках $X_i, i = 1, ..., 3$   построить интерполяционные многочлены Лагранжа и Ньютона, проходящие через точки ${X_i, Y_i}$.  Вычислить значение погрешности интерполяции в точке X*.\n",
    "\n",
    "$f(x) = 1/x$\n",
    "\n",
    "$X^* = 0.8$\n",
    "\n",
    "a) $X = [0.1, 0.5, 0.9, 1.3]$\n",
    "\n",
    "б) $X = [0.1, 0.5, 1.1, 1.3]$"
   ]
  },
  {
   "cell_type": "code",
   "execution_count": 33,
   "metadata": {},
   "outputs": [],
   "source": [
    "import matplotlib.pyplot as plt\n",
    "from math import factorial\n",
    "import typing\n",
    "\n",
    "def error (y_real:float, y_counted:float) -> float:\n",
    "    return abs(abs(y_real) - abs(y_counted))\n",
    "\n",
    "def f(x:float) -> float:\n",
    "    return 1 / x\n",
    "x_point = 0.8\n",
    "\n",
    "def frange(start:float, stop:float, step:float) -> float:\n",
    "    while start < stop:\n",
    "        yield start\n",
    "        start += step\n",
    "\n",
    "Check = [x for x in frange(0.01, 1.5, 0.01)]"
   ]
  },
  {
   "attachments": {},
   "cell_type": "markdown",
   "metadata": {},
   "source": [
    "### Лангранж"
   ]
  },
  {
   "cell_type": "markdown",
   "metadata": {},
   "source": [
    "$$L_j(x)  = \\sum_{i = 0}^j f_i \\frac{\\omega_{j+1}(x)}{(x - x_i) \\omega^{'}_{j+1}(x_i)}$$\n",
    "$$ \\omega_n(x) = (x - x_0) .... (x - x_{n-1}) \\\\\n",
    "\\omega^{'}_{n}(x_k) = (x_k - x_0) ... (x_k - x_{k-1}) (x_k - x_{k + 1}) ... (x_k - x_{n-1}) $$"
   ]
  },
  {
   "cell_type": "code",
   "execution_count": 34,
   "metadata": {},
   "outputs": [],
   "source": [
    "def omega(x_point:float, X:list) -> float:\n",
    "    res = 1\n",
    "    for x in X:\n",
    "        res *= (x_point - x)\n",
    "    return res\n",
    "\n",
    "def omega1(x_i:float, X:list) -> float:\n",
    "    res = 1\n",
    "    for x in X:\n",
    "        if x_i == x:\n",
    "            continue\n",
    "        res *= (x_i - x)\n",
    "    return res\n",
    "\n",
    "def lagarange(X:list, x_point:float, f:typing.Callable[[float], float]) -> float:\n",
    "    return sum([f(x) * omega(x_point, X) / (x_point - x)  / omega1(x, X) for x in X])\n",
    "def L_i(X:list, Check:list, f:typing.Callable[[float], float]) -> float:\n",
    "    return [lagarange(X, x_point, f) for x_point in Check if x_point not in X]\n",
    "\n",
    "def error2(x_point:float, X:list, Check:list, f:typing.Callable[[float], float]) -> float:\n",
    "    return abs(omega(x_point, X)) * max(abs(f(x)**(len(X))) for x in Check) /factorial(len(X))"
   ]
  },
  {
   "attachments": {},
   "cell_type": "markdown",
   "metadata": {},
   "source": [
    "#### a"
   ]
  },
  {
   "attachments": {},
   "cell_type": "markdown",
   "metadata": {},
   "source": [
    "Для одной точки"
   ]
  },
  {
   "cell_type": "code",
   "execution_count": 35,
   "metadata": {},
   "outputs": [
    {
     "name": "stdout",
     "output_type": "stream",
     "text": [
      "0.6666666666666667\n",
      "1.0256410256410255\n"
     ]
    }
   ],
   "source": [
    "X = [0.1, 0.5, 0.9, 1.3]\n",
    "Y = [f(x) for x in X]\n",
    "y_counted_2 = lagarange(X[:3], x_point, f)\n",
    "y_counted_3 = lagarange(X[:4], x_point, f)\n",
    "print(y_counted_2)\n",
    "print(y_counted_3)"
   ]
  },
  {
   "attachments": {},
   "cell_type": "markdown",
   "metadata": {},
   "source": [
    "Отрезок"
   ]
  },
  {
   "cell_type": "code",
   "execution_count": 36,
   "metadata": {},
   "outputs": [
    {
     "name": "stdout",
     "output_type": "stream",
     "text": [
      "1.25\n"
     ]
    }
   ],
   "source": [
    "Check = [x for x in Check if x not in X]\n",
    "y_real = 1/x_point\n",
    "print(y_real)"
   ]
  },
  {
   "attachments": {},
   "cell_type": "markdown",
   "metadata": {},
   "source": [
    "Ошибка "
   ]
  },
  {
   "cell_type": "code",
   "execution_count": 37,
   "metadata": {},
   "outputs": [
    {
     "name": "stdout",
     "output_type": "stream",
     "text": [
      "0.5833333333333333\n",
      "0.22435897435897445\n"
     ]
    }
   ],
   "source": [
    "print(error(y_real, y_counted_2))\n",
    "print(error(y_real, y_counted_3))"
   ]
  },
  {
   "attachments": {},
   "cell_type": "markdown",
   "metadata": {},
   "source": [
    "Абсолютная Погрешность "
   ]
  },
  {
   "cell_type": "code",
   "execution_count": 38,
   "metadata": {},
   "outputs": [
    {
     "name": "stdout",
     "output_type": "stream",
     "text": [
      "3500.0\n",
      "43750.0\n"
     ]
    }
   ],
   "source": [
    "print(error2(x_point, X[:3], Check, f))\n",
    "print(error2(x_point, X[:4], Check, f))"
   ]
  },
  {
   "attachments": {},
   "cell_type": "markdown",
   "metadata": {},
   "source": [
    "посчитали для одной точки, теперь посичтаем для \"отрезка\""
   ]
  },
  {
   "cell_type": "code",
   "execution_count": 39,
   "metadata": {},
   "outputs": [],
   "source": [
    "l_3 = L_i(X[:4], Check, f)\n",
    "l_2 = L_i(X[:3], Check, f)"
   ]
  },
  {
   "attachments": {},
   "cell_type": "markdown",
   "metadata": {},
   "source": [
    "Без масштаба"
   ]
  },
  {
   "cell_type": "code",
   "execution_count": 40,
   "metadata": {},
   "outputs": [
    {
     "data": {
      "image/png": "[encoded data removed]",
      "text/plain": [
       "<Figure size 640x480 with 1 Axes>"
      ]
     },
     "metadata": {},
     "output_type": "display_data"
    }
   ],
   "source": [
    "plt.plot(Check, l_2, label='L_2')\n",
    "plt.plot(Check, l_3, label='L_3')\n",
    "plt.plot(Check, [f(x) for x in Check] , label='real')\n",
    "plt.scatter(X, Y, label='Данные точки')\n",
    "plt.legend()\n",
    "plt.show()"
   ]
  },
  {
   "attachments": {},
   "cell_type": "markdown",
   "metadata": {},
   "source": [
    "С масштабом"
   ]
  },
  {
   "cell_type": "code",
   "execution_count": 41,
   "metadata": {},
   "outputs": [
    {
     "data": {
      "image/png": "[encoded data removed]",
      "text/plain": [
       "<Figure size 640x480 with 1 Axes>"
      ]
     },
     "metadata": {},
     "output_type": "display_data"
    }
   ],
   "source": [
    "\n",
    "plt.plot(Check, l_2, label='L_2')\n",
    "plt.plot(Check, l_3, label='L_3')\n",
    "plt.plot(Check, [f(x) for x in Check] , label='real')\n",
    "plt.scatter(X, Y, label='Данные точки')\n",
    "plt.axis('equal')\n",
    "plt.legend()\n",
    "plt.show()"
   ]
  },
  {
   "attachments": {},
   "cell_type": "markdown",
   "metadata": {},
   "source": [
    "#### б"
   ]
  },
  {
   "attachments": {},
   "cell_type": "markdown",
   "metadata": {},
   "source": [
    "Для одной точки"
   ]
  },
  {
   "cell_type": "code",
   "execution_count": 42,
   "metadata": {},
   "outputs": [
    {
     "name": "stdout",
     "output_type": "stream",
     "text": [
      "-0.1818181818181825\n",
      "0.6993006993006989\n"
     ]
    }
   ],
   "source": [
    "X = [0.1, 0.5, 1.1, 1.3]\n",
    "Y = [f(x) for x in X]\n",
    "y_counted_2 = lagarange(X[:3], x_point, f)\n",
    "y_counted_3 = lagarange(X[:4], x_point, f)\n",
    "print(y_counted_2)\n",
    "print(y_counted_3)"
   ]
  },
  {
   "attachments": {},
   "cell_type": "markdown",
   "metadata": {},
   "source": [
    "Отрезок"
   ]
  },
  {
   "cell_type": "code",
   "execution_count": 43,
   "metadata": {},
   "outputs": [],
   "source": [
    "Check = [x for x in Check if x not in X]"
   ]
  },
  {
   "cell_type": "code",
   "execution_count": 44,
   "metadata": {},
   "outputs": [
    {
     "name": "stdout",
     "output_type": "stream",
     "text": [
      "1.25\n"
     ]
    }
   ],
   "source": [
    "y_real = 1/x_point\n",
    "print(y_real)"
   ]
  },
  {
   "attachments": {},
   "cell_type": "markdown",
   "metadata": {},
   "source": [
    "Ошибка"
   ]
  },
  {
   "cell_type": "code",
   "execution_count": 45,
   "metadata": {},
   "outputs": [
    {
     "name": "stdout",
     "output_type": "stream",
     "text": [
      "1.0681818181818175\n",
      "0.5506993006993011\n"
     ]
    }
   ],
   "source": [
    "print(error(y_real, y_counted_2))\n",
    "print(error(y_real, y_counted_3))"
   ]
  },
  {
   "attachments": {},
   "cell_type": "markdown",
   "metadata": {},
   "source": [
    "Абсолютная погрешность"
   ]
  },
  {
   "cell_type": "code",
   "execution_count": 46,
   "metadata": {},
   "outputs": [
    {
     "name": "stdout",
     "output_type": "stream",
     "text": [
      "10500.000000000005\n",
      "131250.00000000006\n"
     ]
    }
   ],
   "source": [
    "print(error2(x_point, X[:3], Check, f))\n",
    "print(error2(x_point, X[:4],Check, f))"
   ]
  },
  {
   "attachments": {},
   "cell_type": "markdown",
   "metadata": {},
   "source": [
    "посчитали для одной точки, теперь посичтаем для \"отрезка\""
   ]
  },
  {
   "cell_type": "code",
   "execution_count": 47,
   "metadata": {},
   "outputs": [],
   "source": [
    "l_3 = L_i(X[:4], Check, f)\n",
    "l_2 = L_i(X[:3], Check, f)"
   ]
  },
  {
   "attachments": {},
   "cell_type": "markdown",
   "metadata": {},
   "source": [
    "Без масштаба"
   ]
  },
  {
   "cell_type": "code",
   "execution_count": 48,
   "metadata": {},
   "outputs": [
    {
     "data": {
      "image/png": "[encoded data removed]",
      "text/plain": [
       "<Figure size 640x480 with 1 Axes>"
      ]
     },
     "metadata": {},
     "output_type": "display_data"
    }
   ],
   "source": [
    "plt.plot(Check, [f(x) for x in Check] , label='real')\n",
    "plt.plot(Check, l_2, label='L_2')\n",
    "plt.plot(Check, l_3, label='L_3')\n",
    "plt.scatter(X, Y)\n",
    "\n",
    "plt.legend()\n",
    "plt.show()"
   ]
  },
  {
   "attachments": {},
   "cell_type": "markdown",
   "metadata": {},
   "source": [
    "С масштабом"
   ]
  },
  {
   "cell_type": "code",
   "execution_count": 49,
   "metadata": {},
   "outputs": [
    {
     "data": {
      "image/png": "[encoded data removed]",
      "text/plain": [
       "<Figure size 640x480 with 1 Axes>"
      ]
     },
     "metadata": {},
     "output_type": "display_data"
    }
   ],
   "source": [
    "plt.plot(Check, [f(x) for x in Check] , label='real')\n",
    "plt.plot(Check, l_2, label='L_2')\n",
    "plt.plot(Check, l_3, label='L_3')\n",
    "plt.scatter(X, Y)\n",
    "plt.axis('equal')\n",
    "plt.legend()\n",
    "plt.show()"
   ]
  },
  {
   "attachments": {},
   "cell_type": "markdown",
   "metadata": {},
   "source": [
    "### Ньютон"
   ]
  },
  {
   "cell_type": "code",
   "execution_count": 50,
   "metadata": {},
   "outputs": [],
   "source": [
    "def compute_difference_quotient(f:typing.Callable[[float], float], xi:float, xj:float) -> float:\n",
    "    return (f(xi) - f(xj)) / (xi - xj)\n",
    "\n",
    "def compute_divided_differences(f:typing.Callable[[float], float], X:list) -> float:\n",
    "    n = len(X)\n",
    "    if n == 1:\n",
    "        return f(X[0])\n",
    "    else:\n",
    "        return (compute_divided_differences(f, X[1:]) - compute_divided_differences(f, X[:-1])) / (X[-1] - X[0])\n",
    "\n",
    "def compute_Pn(f:typing.Callable[[float], float], X:list, x:float) -> float:\n",
    "    n = len(X) - 1\n",
    "    if n == 0:\n",
    "        return f(X[0])\n",
    "    else:\n",
    "        term = 1\n",
    "        for j in range(n):\n",
    "            term *= (x - X[j])\n",
    "        return (compute_Pn(f, X[:-1], x) +\n",
    "                term * compute_divided_differences(f, X))\n",
    "    \n",
    "def P_n(f:typing.Callable[[float], float], X:list, Check:list) -> list:\n",
    "    return [compute_Pn(f, X, x_point) for x_point in Check]\n"
   ]
  },
  {
   "attachments": {},
   "cell_type": "markdown",
   "metadata": {},
   "source": [
    "#### a"
   ]
  },
  {
   "attachments": {},
   "cell_type": "markdown",
   "metadata": {},
   "source": [
    "Для отрезка"
   ]
  },
  {
   "cell_type": "code",
   "execution_count": 51,
   "metadata": {},
   "outputs": [
    {
     "name": "stdout",
     "output_type": "stream",
     "text": [
      "0.6666666666666661\n",
      "1.025641025641025\n"
     ]
    }
   ],
   "source": [
    "X = [0.1, 0.5, 0.9, 1.3]\n",
    "Y = [f(x) for x in X]\n",
    "Check = [x for x in Check if x not in X]\n",
    "y_counted_2 = compute_Pn(f, X[:3], x_point)\n",
    "y_counted_3 = compute_Pn(f, X[:4], x_point)\n",
    "print(y_counted_2)\n",
    "print(y_counted_3)\n"
   ]
  },
  {
   "cell_type": "code",
   "execution_count": 52,
   "metadata": {},
   "outputs": [
    {
     "name": "stdout",
     "output_type": "stream",
     "text": [
      "1.25\n"
     ]
    }
   ],
   "source": [
    "y_real = 1/x_point\n",
    "print(y_real)"
   ]
  },
  {
   "attachments": {},
   "cell_type": "markdown",
   "metadata": {},
   "source": [
    "Ошибка"
   ]
  },
  {
   "cell_type": "code",
   "execution_count": 53,
   "metadata": {},
   "outputs": [
    {
     "name": "stdout",
     "output_type": "stream",
     "text": [
      "0.5833333333333339\n",
      "0.2243589743589749\n"
     ]
    }
   ],
   "source": [
    "print(error(y_real, y_counted_2))\n",
    "print(error(y_real, y_counted_3))"
   ]
  },
  {
   "attachments": {},
   "cell_type": "markdown",
   "metadata": {},
   "source": [
    "Абсолютная погрешность"
   ]
  },
  {
   "cell_type": "code",
   "execution_count": 54,
   "metadata": {},
   "outputs": [
    {
     "name": "stdout",
     "output_type": "stream",
     "text": [
      "3500.0\n",
      "43750.0\n"
     ]
    }
   ],
   "source": [
    "print(error2(x_point, X[:3], Check, f))\n",
    "print(error2(x_point, X[:4],Check, f))"
   ]
  },
  {
   "attachments": {},
   "cell_type": "markdown",
   "metadata": {},
   "source": [
    "посчитали для одной точки, теперь посичтаем для \"отрезка\""
   ]
  },
  {
   "cell_type": "code",
   "execution_count": 55,
   "metadata": {},
   "outputs": [],
   "source": [
    "p_2 = P_n(f, X[:3], Check)\n",
    "p_3 = P_n(f, X[:4], Check)"
   ]
  },
  {
   "attachments": {},
   "cell_type": "markdown",
   "metadata": {},
   "source": [
    "Без масштаба"
   ]
  },
  {
   "cell_type": "code",
   "execution_count": 56,
   "metadata": {},
   "outputs": [
    {
     "data": {
      "image/png": "[encoded data removed]",
      "text/plain": [
       "<Figure size 640x480 with 1 Axes>"
      ]
     },
     "metadata": {},
     "output_type": "display_data"
    }
   ],
   "source": [
    "plt.plot(Check, [f(x) for x in Check] , label='real')\n",
    "plt.plot(Check, p_2, label='P_2')\n",
    "plt.plot(Check, p_3, label='P_3')\n",
    "plt.scatter(X, Y)\n",
    "\n",
    "plt.legend()\n",
    "plt.show()"
   ]
  },
  {
   "attachments": {},
   "cell_type": "markdown",
   "metadata": {},
   "source": [
    "С масштабом"
   ]
  },
  {
   "cell_type": "code",
   "execution_count": 57,
   "metadata": {},
   "outputs": [
    {
     "data": {
      "image/png": "[encoded data removed]",
      "text/plain": [
       "<Figure size 640x480 with 1 Axes>"
      ]
     },
     "metadata": {},
     "output_type": "display_data"
    }
   ],
   "source": [
    "plt.scatter(Check, [f(x) for x in Check] , label='real')\n",
    "plt.plot(Check, p_2, label='P_2')\n",
    "plt.plot(Check, p_3, label='P_3')\n",
    "plt.axis('equal')\n",
    "plt.legend()\n",
    "plt.show()"
   ]
  },
  {
   "attachments": {},
   "cell_type": "markdown",
   "metadata": {},
   "source": [
    "#### б"
   ]
  },
  {
   "cell_type": "code",
   "execution_count": 58,
   "metadata": {},
   "outputs": [
    {
     "name": "stdout",
     "output_type": "stream",
     "text": [
      "-0.18181818181818254\n",
      "0.6993006993006993\n"
     ]
    }
   ],
   "source": [
    "X = [0.1, 0.5, 1.1, 1.3]\n",
    "Y = [f(x) for x in X]\n",
    "Check = [x for x in Check if x not in X]\n",
    "y_counted_2 = compute_Pn(f, X[:3], x_point)\n",
    "y_counted_3 = compute_Pn(f, X[:4], x_point)\n",
    "print(y_counted_2)\n",
    "print(y_counted_3)"
   ]
  },
  {
   "cell_type": "code",
   "execution_count": 59,
   "metadata": {},
   "outputs": [
    {
     "name": "stdout",
     "output_type": "stream",
     "text": [
      "1.25\n"
     ]
    }
   ],
   "source": [
    "y_real = 1/x_point\n",
    "print(y_real)"
   ]
  },
  {
   "cell_type": "code",
   "execution_count": 60,
   "metadata": {},
   "outputs": [
    {
     "name": "stdout",
     "output_type": "stream",
     "text": [
      "1.0681818181818175\n",
      "0.5506993006993007\n"
     ]
    }
   ],
   "source": [
    "print(error(y_real, y_counted_2))\n",
    "print(error(y_real, y_counted_3))"
   ]
  },
  {
   "cell_type": "code",
   "execution_count": 61,
   "metadata": {},
   "outputs": [
    {
     "name": "stdout",
     "output_type": "stream",
     "text": [
      "10500.000000000005\n",
      "131250.00000000006\n"
     ]
    }
   ],
   "source": [
    "print(error2(x_point, X[:3], Check, f))\n",
    "print(error2(x_point, X[:4],Check, f))"
   ]
  },
  {
   "cell_type": "code",
   "execution_count": 62,
   "metadata": {},
   "outputs": [],
   "source": [
    "p_2 = P_n(f, X[:3], Check)\n",
    "p_3 = P_n(f, X[:4], Check)"
   ]
  },
  {
   "cell_type": "code",
   "execution_count": 63,
   "metadata": {},
   "outputs": [
    {
     "data": {
      "image/png": "[encoded data removed]",
      "text/plain": [
       "<Figure size 640x480 with 1 Axes>"
      ]
     },
     "metadata": {},
     "output_type": "display_data"
    }
   ],
   "source": [
    "plt.plot(Check, [f(x) for x in Check] , label='real')\n",
    "plt.plot(Check, p_2, label='P_2')\n",
    "plt.plot(Check, p_3, label='P_3')\n",
    "plt.scatter(X, Y)\n",
    "\n",
    "plt.legend()\n",
    "plt.show()"
   ]
  },
  {
   "cell_type": "code",
   "execution_count": 64,
   "metadata": {},
   "outputs": [
    {
     "data": {
      "image/png": "[encoded data removed]",
      "text/plain": [
       "<Figure size 640x480 with 1 Axes>"
      ]
     },
     "metadata": {},
     "output_type": "display_data"
    }
   ],
   "source": [
    "plt.plot(Check, [f(x) for x in Check] , label='real')\n",
    "plt.plot(Check, p_2, label='P_2')\n",
    "plt.plot(Check, p_3, label='P_3')\n",
    "plt.scatter(X, Y)\n",
    "plt.axis('equal')\n",
    "plt.legend()\n",
    "plt.show()"
   ]
  }
 ],
 "metadata": {
  "kernelspec": {
   "display_name": "base",
   "language": "python",
   "name": "python3"
  },
  "language_info": {
   "codemirror_mode": {
    "name": "ipython",
    "version": 3
   },
   "file_extension": ".py",
   "mimetype": "text/x-python",
   "name": "python",
   "nbconvert_exporter": "python",
   "pygments_lexer": "ipython3",
   "version": "3.8.18"
  },
  "orig_nbformat": 4
 },
 "nbformat": 4,
 "nbformat_minor": 2
}
