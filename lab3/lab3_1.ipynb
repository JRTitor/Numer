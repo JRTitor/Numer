{
 "cells": [
  {
   "attachments": {},
   "cell_type": "markdown",
   "metadata": {},
   "source": [
    "Вариант 23\n",
    "3.1. Используя таблицу значений $Y_i$  функции $y = f(x)$, вычисленных в точках $X_i, i = 1, ..., 3$   построить интерполяционные многочлены Лагранжа и Ньютона, проходящие через точки ${X_i, Y_i}$.  Вычислить значение погрешности интерполяции в точке X*.\n",
    "\n",
    "$f(x) = 1/x$\n",
    "\n",
    "$X^* = 0,9$\n",
    "\n",
    "a) $X = [0.1, 0.5, 0.9, 1.3]$\n",
    "\n",
    "б) $X = [0.1, 0.5, 1.1, 1.3]$"
   ]
  },
  {
   "cell_type": "code",
   "execution_count": 33,
   "metadata": {},
   "outputs": [],
   "source": [
    "def error (y_real, y_counted):\n",
    "    return abs(abs(y_real) - abs(y_counted))"
   ]
  },
  {
   "cell_type": "code",
   "execution_count": 18,
   "metadata": {},
   "outputs": [],
   "source": [
    "def f(x):\n",
    "    return 1 / x\n",
    "x_point = 0.8"
   ]
  },
  {
   "attachments": {},
   "cell_type": "markdown",
   "metadata": {},
   "source": [
    "### Лангранж"
   ]
  },
  {
   "cell_type": "code",
   "execution_count": 21,
   "metadata": {},
   "outputs": [],
   "source": [
    "def omega(x_point, X):\n",
    "    res = 1\n",
    "    for x in X:\n",
    "        res *= (x_point - x)\n",
    "    return res\n",
    "\n",
    "def omega1(x_i, X):\n",
    "    res = 1\n",
    "    for x in X:\n",
    "        if x_i == x:\n",
    "            continue\n",
    "        res *= (x_i - x)\n",
    "    return res\n",
    "\n",
    "def lagarange(X, x_point, f):\n",
    "    return sum([f(x) * omega(x_point, X) / (x_point - x)  / omega1(x, X) for x in X])"
   ]
  },
  {
   "attachments": {},
   "cell_type": "markdown",
   "metadata": {},
   "source": [
    "a"
   ]
  },
  {
   "cell_type": "code",
   "execution_count": 36,
   "metadata": {},
   "outputs": [
    {
     "name": "stdout",
     "output_type": "stream",
     "text": [
      "1.25\n"
     ]
    }
   ],
   "source": [
    "y_real = 1/x_point\n",
    "print(y_real)"
   ]
  },
  {
   "cell_type": "code",
   "execution_count": 43,
   "metadata": {},
   "outputs": [
    {
     "name": "stdout",
     "output_type": "stream",
     "text": [
      "1.0256410256410255\n"
     ]
    }
   ],
   "source": [
    "X = [0.1, 0.5, 0.9, 1.3]\n",
    "y_counted = lagarange(X, x_point, f)\n",
    "print(y_counted)"
   ]
  },
  {
   "attachments": {},
   "cell_type": "markdown",
   "metadata": {},
   "source": [
    "error"
   ]
  },
  {
   "cell_type": "code",
   "execution_count": 44,
   "metadata": {},
   "outputs": [
    {
     "data": {
      "text/plain": [
       "0.22435897435897445"
      ]
     },
     "execution_count": 44,
     "metadata": {},
     "output_type": "execute_result"
    }
   ],
   "source": [
    "error(1/x_point, y_counted)"
   ]
  },
  {
   "attachments": {},
   "cell_type": "markdown",
   "metadata": {},
   "source": [
    "б"
   ]
  },
  {
   "cell_type": "code",
   "execution_count": 48,
   "metadata": {},
   "outputs": [
    {
     "name": "stdout",
     "output_type": "stream",
     "text": [
      "0.6993006993006989\n"
     ]
    }
   ],
   "source": [
    "X = [0.1, 0.5, 1.1, 1.3]\n",
    "y_counted = lagarange(X, x_point, f)\n",
    "print(y_counted)"
   ]
  },
  {
   "cell_type": "code",
   "execution_count": 46,
   "metadata": {},
   "outputs": [
    {
     "data": {
      "text/plain": [
       "0.5506993006993011"
      ]
     },
     "execution_count": 46,
     "metadata": {},
     "output_type": "execute_result"
    }
   ],
   "source": [
    "error(1/x_point, y_counted)"
   ]
  },
  {
   "attachments": {},
   "cell_type": "markdown",
   "metadata": {},
   "source": [
    "### Ньютон"
   ]
  },
  {
   "cell_type": "code",
   "execution_count": 47,
   "metadata": {},
   "outputs": [],
   "source": [
    "def compute_difference_quotient(f, xi, xj):\n",
    "    return (f(xi) - f(xj)) / (xi - xj)\n",
    "\n",
    "def compute_divided_differences(f, X):\n",
    "    n = len(X)\n",
    "    if n == 1:\n",
    "        return f(X[0])\n",
    "    else:\n",
    "        return (compute_divided_differences(f, X[1:]) - compute_divided_differences(f, X[:-1])) / (X[-1] - X[0])\n",
    "\n",
    "def compute_Pn(f, X, x):\n",
    "    n = len(X) - 1\n",
    "    if n == 0:\n",
    "        return f(X[0])\n",
    "    else:\n",
    "        term = 1\n",
    "        for j in range(n):\n",
    "            term *= (x - X[j])\n",
    "        return (compute_Pn(f, X[:-1], x) +\n",
    "                term * compute_divided_differences(f, X))\n",
    "\n"
   ]
  },
  {
   "attachments": {},
   "cell_type": "markdown",
   "metadata": {},
   "source": [
    "a"
   ]
  },
  {
   "cell_type": "code",
   "execution_count": 49,
   "metadata": {},
   "outputs": [
    {
     "name": "stdout",
     "output_type": "stream",
     "text": [
      "1.025641025641025\n"
     ]
    }
   ],
   "source": [
    "X = [0.1, 0.5, 0.9, 1.3]\n",
    "y_counted = compute_Pn(f, X, x_point)\n",
    "print(y_counted)"
   ]
  },
  {
   "cell_type": "code",
   "execution_count": 50,
   "metadata": {},
   "outputs": [
    {
     "data": {
      "text/plain": [
       "0.2243589743589749"
      ]
     },
     "execution_count": 50,
     "metadata": {},
     "output_type": "execute_result"
    }
   ],
   "source": [
    "error(1/x_point, y_counted)"
   ]
  },
  {
   "attachments": {},
   "cell_type": "markdown",
   "metadata": {},
   "source": [
    "б"
   ]
  },
  {
   "cell_type": "code",
   "execution_count": 51,
   "metadata": {},
   "outputs": [
    {
     "name": "stdout",
     "output_type": "stream",
     "text": [
      "0.6993006993006993\n"
     ]
    }
   ],
   "source": [
    "X = [0.1, 0.5, 1.1, 1.3]\n",
    "y_counted = compute_Pn(f, X, x_point)\n",
    "print(y_counted)"
   ]
  },
  {
   "cell_type": "code",
   "execution_count": 52,
   "metadata": {},
   "outputs": [
    {
     "data": {
      "text/plain": [
       "0.5506993006993007"
      ]
     },
     "execution_count": 52,
     "metadata": {},
     "output_type": "execute_result"
    }
   ],
   "source": [
    "error(1/x_point, y_counted)"
   ]
  }
 ],
 "metadata": {
  "kernelspec": {
   "display_name": "base",
   "language": "python",
   "name": "python3"
  },
  "language_info": {
   "codemirror_mode": {
    "name": "ipython",
    "version": 3
   },
   "file_extension": ".py",
   "mimetype": "text/x-python",
   "name": "python",
   "nbconvert_exporter": "python",
   "pygments_lexer": "ipython3",
   "version": "3.9.13"
  },
  "orig_nbformat": 4
 },
 "nbformat": 4,
 "nbformat_minor": 2
}
